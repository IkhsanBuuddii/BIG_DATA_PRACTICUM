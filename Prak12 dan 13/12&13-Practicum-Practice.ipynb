{
 "cells": [
  {
   "cell_type": "markdown",
   "id": "9e95332f",
   "metadata": {},
   "source": [
    "# Hands-On Pertemuan 12 and 13: Data Cleaning, Preparation, and Visualization"
   ]
  },
  {
   "cell_type": "markdown",
   "id": "c6a6f4ed",
   "metadata": {},
   "source": [
    "## Objectives:\n",
    "- **Pertemuan 12**: Master data cleaning and preparation techniques using Pandas.\n",
    "- **Pertemuan 13**: Develop skills in data visualization using Matplotlib and Seaborn for effective data analysis.\n"
   ]
  },
  {
   "cell_type": "markdown",
   "id": "423279e7",
   "metadata": {},
   "source": [
    "## Pertemuan 12: Data Cleaning and Preparation using Pandas"
   ]
  },
  {
   "cell_type": "markdown",
   "id": "717d917f",
   "metadata": {},
   "source": [
    "### Topics Covered\n",
    "- Identifying and handling missing data.\n",
    "- Data transformation and normalization.\n",
    "- Data filtering and deduplication.\n",
    "- Standardization of categorical data.\n",
    "- Outlier detection and handling.\n"
   ]
  },
  {
   "cell_type": "code",
   "execution_count": 8,
   "id": "10266acc",
   "metadata": {},
   "outputs": [
    {
     "name": "stdout",
     "output_type": "stream",
     "text": [
      "After cleaning:\n",
      "       Name    Age   Salary\n",
      "0    Alice  24.00  48000.0\n",
      "1      Bob  30.00  57000.0\n",
      "2  Charlie  27.75  57000.0\n",
      "3    David  22.00  57000.0\n"
     ]
    },
    {
     "name": "stderr",
     "output_type": "stream",
     "text": [
      "C:\\Users\\User\\AppData\\Local\\Temp\\ipykernel_17464\\2224635855.py:13: FutureWarning: A value is trying to be set on a copy of a DataFrame or Series through chained assignment using an inplace method.\n",
      "The behavior will change in pandas 3.0. This inplace method will never work because the intermediate object on which we are setting values always behaves as a copy.\n",
      "\n",
      "For example, when doing 'df[col].method(value, inplace=True)', try using 'df.method({col: value}, inplace=True)' or df[col] = df[col].method(value) instead, to perform the operation inplace on the original object.\n",
      "\n",
      "\n",
      "  df['Age'].fillna(df['Age'].mean(), inplace=True)\n",
      "C:\\Users\\User\\AppData\\Local\\Temp\\ipykernel_17464\\2224635855.py:14: FutureWarning: A value is trying to be set on a copy of a DataFrame or Series through chained assignment using an inplace method.\n",
      "The behavior will change in pandas 3.0. This inplace method will never work because the intermediate object on which we are setting values always behaves as a copy.\n",
      "\n",
      "For example, when doing 'df[col].method(value, inplace=True)', try using 'df.method({col: value}, inplace=True)' or df[col] = df[col].method(value) instead, to perform the operation inplace on the original object.\n",
      "\n",
      "\n",
      "  df['Salary'].fillna(df['Salary'].median(), inplace=True)\n"
     ]
    }
   ],
   "source": [
    "# Exercise 1: Identifying and Handling Missing Data\n",
    "import pandas as pd\n",
    "\n",
    "# Sample dataset with missing values\n",
    "data = {\n",
    "    'Name': ['Alice', 'Bob', 'Charlie', 'David', None],\n",
    "    'Age': [24, 30, None, 22, 35],\n",
    "    'Salary': [48000, None, 57000, None, 60000]\n",
    "}\n",
    "df = pd.DataFrame(data)\n",
    "\n",
    "# Filling missing values and dropping rows\n",
    "df['Age'].fillna(df['Age'].mean(), inplace=True)\n",
    "df['Salary'].fillna(df['Salary'].median(), inplace=True)\n",
    "df.dropna(subset=['Name'], inplace=True)\n",
    "print('After cleaning:\\n', df)\n"
   ]
  },
  {
   "cell_type": "code",
   "execution_count": 9,
   "id": "fcf68022",
   "metadata": {},
   "outputs": [
    {
     "name": "stdout",
     "output_type": "stream",
     "text": [
      "Standardized Data:\n",
      "    Product     Category\n",
      "0   Laptop  Electronics\n",
      "1   Laptop  Electronics\n",
      "2  Desktop  Electronics\n",
      "3   Tablet      Gadgets\n",
      "4   Tablet      Gadgets\n"
     ]
    }
   ],
   "source": [
    "# Exercise 2: Standardizing Categorical Data\n",
    "# Sample dataset with inconsistent categorical values\n",
    "data = {\n",
    "    'Product': ['Laptop', 'Laptop', 'Desktop', 'Tablet', 'Tablet'],\n",
    "    'Category': ['Electronics', 'electronics', 'Electronics', 'Gadgets', 'gadgets']\n",
    "}\n",
    "df = pd.DataFrame(data)\n",
    "\n",
    "# Standardize category values\n",
    "df['Category'] = df['Category'].str.capitalize()\n",
    "print('Standardized Data:\\n', df)\n"
   ]
  },
  {
   "cell_type": "markdown",
   "id": "b237c9ec",
   "metadata": {},
   "source": [
    "### Practice Tasks\n",
    "- Load a dataset of your choice and identify missing values.\n",
    "- Implement data transformations to normalize numerical columns.\n",
    "- Standardize categorical columns and remove duplicates.\n"
   ]
  },
  {
   "cell_type": "code",
   "execution_count": 15,
   "id": "98756288",
   "metadata": {},
   "outputs": [
    {
     "name": "stdout",
     "output_type": "stream",
     "text": [
      "    TransactionID   ProductName         Category   Price  Quantity        Date\n",
      "0               1        Laptop      Electronics  1000.0       2.0  2024-11-01\n",
      "1               2    Smartphone      Electronics   700.0       1.0  2024-11-02\n",
      "2               3       T-Shirt          Apparel    15.0       3.0  2024-11-03\n",
      "3               4        Laptop      Electronics  1000.0       2.0  2024-11-01\n",
      "4               5       Blender  Home Appliances   250.0       1.0  2024-11-04\n",
      "5               6     Microwave  Home Appliances   300.0       1.0  2024-11-04\n",
      "6               7       T-Shirt          Apparel    15.0       NaN  2024-11-05\n",
      "7               8       Blender  Home Appliances   250.0       1.0  2024-11-04\n",
      "8               9         Jeans          Apparel    50.0       1.0  2024-11-06\n",
      "9              10           NaN      Electronics   200.0       1.0  2024-11-07\n",
      "10             11        Tablet      Electronics   400.0       2.0  2024-11-08\n",
      "11             12        Laptop      Electronics  1000.0       1.0  2024-11-01\n",
      "12             13  Coffee Maker  Home Appliances   150.0       1.0  2024-11-09\n",
      "13             14    Smartwatch      Electronics   200.0       NaN  2024-11-10\n",
      "14             15       T-Shirt          Apparel    15.0       3.0  2024-11-11\n",
      "15             16    Headphones      Electronics   100.0       1.0  2024-11-12\n",
      "16             17       Blender  Home Appliances   250.0       1.0  2024-11-13\n",
      "17             18        Laptop      Electronics  1000.0       2.0  2024-11-01\n",
      "18             19    Smartphone      Electronics   700.0       1.0  2024-11-14\n",
      "19             20         Jeans          Apparel    50.0       1.0  2024-11-15\n",
      "20             21        Laptop      Electronics  1000.0       2.0  2024-11-16\n",
      "21             22       T-Shirt          Apparel    15.0       2.0  2024-11-17\n",
      "22             23       Blender  Home Appliances   250.0       1.0  2024-11-18\n",
      "23             24        Laptop      Electronics  1000.0       2.0  2024-11-19\n",
      "24             25  Coffee Maker  Home Appliances   150.0       NaN  2024-11-20\n",
      "25             26     Microwave  Home Appliances   300.0       1.0  2024-11-21\n",
      "26             27    Smartwatch      Electronics   200.0       1.0  2024-11-22\n",
      "27             28         Jeans          Apparel    50.0       1.0  2024-11-23\n",
      "28             29        Laptop      Electronics  1000.0       2.0  2024-11-24\n",
      "29             30       T-Shirt          Apparel    15.0       3.0  2024-11-25\n",
      "30             31        Tablet      Electronics   400.0       1.0  2024-11-26\n",
      "31             32        Laptop      Electronics  1000.0       2.0  2024-11-27\n",
      "32             33       Blender  Home Appliances   250.0       1.0  2024-11-28\n",
      "33             34  Coffee Maker  Home Appliances   150.0       1.0  2024-11-29\n",
      "34             35         Jeans          Apparel    50.0       1.0  2024-11-30\n",
      "35             36    Smartphone      Electronics   700.0       NaN  2024-12-01\n",
      "36             37    Smartwatch      Electronics   200.0       1.0  2024-12-02\n",
      "37             38        Laptop      Electronics     NaN       2.0  2024-12-03\n",
      "38             39     Microwave  Home Appliances   300.0       1.0  2024-12-04\n",
      "39             40        Laptop      Electronics  1000.0       2.0  2024-12-05\n",
      "40             41       T-Shirt          Apparel    15.0       3.0  2024-12-06\n",
      "41             42       Blender  Home Appliances   250.0       1.0  2024-12-07\n",
      "42             43         Jeans          Apparel    50.0       NaN  2024-12-08\n",
      "43             44        Laptop      Electronics  1000.0       2.0  2024-12-09\n",
      "44             45    Smartphone      Electronics   700.0       1.0  2024-12-10\n",
      "45             46       T-Shirt          Apparel    15.0       3.0  2024-12-11\n",
      "46             47     Microwave  Home Appliances   300.0       1.0  2024-12-12\n",
      "47             48  Coffee Maker  Home Appliances   150.0       1.0  2024-12-13\n",
      "48             49        Tablet      Electronics   400.0       2.0  2024-12-14\n",
      "49             50         Jeans          Apparel    50.0       1.0  2024-12-15\n",
      "<class 'pandas.core.frame.DataFrame'>\n",
      "RangeIndex: 50 entries, 0 to 49\n",
      "Data columns (total 6 columns):\n",
      " #   Column         Non-Null Count  Dtype  \n",
      "---  ------         --------------  -----  \n",
      " 0   TransactionID  50 non-null     int64  \n",
      " 1   ProductName    49 non-null     object \n",
      " 2   Category       50 non-null     object \n",
      " 3   Price          49 non-null     float64\n",
      " 4   Quantity       45 non-null     float64\n",
      " 5   Date           50 non-null     object \n",
      "dtypes: float64(2), int64(1), object(3)\n",
      "memory usage: 2.5+ KB\n",
      "None\n"
     ]
    }
   ],
   "source": [
    "#Task 1\n",
    "\n",
    "import pandas as pd\n",
    "\n",
    "# Membaca file CSV\n",
    "file_path = \"D:\\School\\Semester 3\\BigData\\Prak12 dan 13\\TransactionData.txt\"  # Ganti dengan nama file Anda\n",
    "df = pd.read_csv(file_path)\n",
    "\n",
    "# Melihat beberapa baris awal dataset\n",
    "print(df.head(50))\n",
    "\n",
    "# Informasi dataset\n",
    "print(df.info())"
   ]
  },
  {
   "cell_type": "code",
   "execution_count": 14,
   "id": "bb895871",
   "metadata": {},
   "outputs": [
    {
     "name": "stdout",
     "output_type": "stream",
     "text": [
      "TransactionID    0\n",
      "ProductName      0\n",
      "Category         0\n",
      "Price            0\n",
      "Quantity         0\n",
      "Date             0\n",
      "dtype: int64\n"
     ]
    }
   ],
   "source": [
    "print(df.isnull().sum())\n"
   ]
  },
  {
   "cell_type": "code",
   "execution_count": 16,
   "id": "3ede42af",
   "metadata": {},
   "outputs": [
    {
     "name": "stdout",
     "output_type": "stream",
     "text": [
      "    TransactionID   ProductName         Category   Price  Quantity        Date\n",
      "0               1        Laptop      Electronics  1000.0       2.0  2024-11-01\n",
      "1               2    Smartphone      Electronics   700.0       1.0  2024-11-02\n",
      "2               3       T-Shirt          Apparel    15.0       3.0  2024-11-03\n",
      "3               4        Laptop      Electronics  1000.0       2.0  2024-11-01\n",
      "4               5       Blender  Home Appliances   250.0       1.0  2024-11-04\n",
      "5               6     Microwave  Home Appliances   300.0       1.0  2024-11-04\n",
      "6               7       T-Shirt          Apparel    15.0       1.0  2024-11-05\n",
      "7               8       Blender  Home Appliances   250.0       1.0  2024-11-04\n",
      "8               9         Jeans          Apparel    50.0       1.0  2024-11-06\n",
      "9              10        Laptop      Electronics   200.0       1.0  2024-11-07\n",
      "10             11        Tablet      Electronics   400.0       2.0  2024-11-08\n",
      "11             12        Laptop      Electronics  1000.0       1.0  2024-11-01\n",
      "12             13  Coffee Maker  Home Appliances   150.0       1.0  2024-11-09\n",
      "13             14    Smartwatch      Electronics   200.0       1.0  2024-11-10\n",
      "14             15       T-Shirt          Apparel    15.0       3.0  2024-11-11\n",
      "15             16    Headphones      Electronics   100.0       1.0  2024-11-12\n",
      "16             17       Blender  Home Appliances   250.0       1.0  2024-11-13\n",
      "17             18        Laptop      Electronics  1000.0       2.0  2024-11-01\n",
      "18             19    Smartphone      Electronics   700.0       1.0  2024-11-14\n",
      "19             20         Jeans          Apparel    50.0       1.0  2024-11-15\n",
      "20             21        Laptop      Electronics  1000.0       2.0  2024-11-16\n",
      "21             22       T-Shirt          Apparel    15.0       2.0  2024-11-17\n",
      "22             23       Blender  Home Appliances   250.0       1.0  2024-11-18\n",
      "23             24        Laptop      Electronics  1000.0       2.0  2024-11-19\n",
      "24             25  Coffee Maker  Home Appliances   150.0       1.0  2024-11-20\n",
      "25             26     Microwave  Home Appliances   300.0       1.0  2024-11-21\n",
      "26             27    Smartwatch      Electronics   200.0       1.0  2024-11-22\n",
      "27             28         Jeans          Apparel    50.0       1.0  2024-11-23\n",
      "28             29        Laptop      Electronics  1000.0       2.0  2024-11-24\n",
      "29             30       T-Shirt          Apparel    15.0       3.0  2024-11-25\n",
      "30             31        Tablet      Electronics   400.0       1.0  2024-11-26\n",
      "31             32        Laptop      Electronics  1000.0       2.0  2024-11-27\n",
      "32             33       Blender  Home Appliances   250.0       1.0  2024-11-28\n",
      "33             34  Coffee Maker  Home Appliances   150.0       1.0  2024-11-29\n",
      "34             35         Jeans          Apparel    50.0       1.0  2024-11-30\n",
      "35             36    Smartphone      Electronics   700.0       1.0  2024-12-01\n",
      "36             37    Smartwatch      Electronics   200.0       1.0  2024-12-02\n",
      "37             38        Laptop      Electronics   250.0       2.0  2024-12-03\n",
      "38             39     Microwave  Home Appliances   300.0       1.0  2024-12-04\n",
      "39             40        Laptop      Electronics  1000.0       2.0  2024-12-05\n",
      "40             41       T-Shirt          Apparel    15.0       3.0  2024-12-06\n",
      "41             42       Blender  Home Appliances   250.0       1.0  2024-12-07\n",
      "42             43         Jeans          Apparel    50.0       1.0  2024-12-08\n",
      "43             44        Laptop      Electronics  1000.0       2.0  2024-12-09\n",
      "44             45    Smartphone      Electronics   700.0       1.0  2024-12-10\n",
      "45             46       T-Shirt          Apparel    15.0       3.0  2024-12-11\n",
      "46             47     Microwave  Home Appliances   300.0       1.0  2024-12-12\n",
      "47             48  Coffee Maker  Home Appliances   150.0       1.0  2024-12-13\n",
      "48             49        Tablet      Electronics   400.0       2.0  2024-12-14\n",
      "49             50         Jeans          Apparel    50.0       1.0  2024-12-15\n"
     ]
    },
    {
     "name": "stderr",
     "output_type": "stream",
     "text": [
      "C:\\Users\\User\\AppData\\Local\\Temp\\ipykernel_17464\\3715355861.py:4: FutureWarning: A value is trying to be set on a copy of a DataFrame or Series through chained assignment using an inplace method.\n",
      "The behavior will change in pandas 3.0. This inplace method will never work because the intermediate object on which we are setting values always behaves as a copy.\n",
      "\n",
      "For example, when doing 'df[col].method(value, inplace=True)', try using 'df.method({col: value}, inplace=True)' or df[col] = df[col].method(value) instead, to perform the operation inplace on the original object.\n",
      "\n",
      "\n",
      "  df[col].fillna(df[col].median(), inplace=True)\n",
      "C:\\Users\\User\\AppData\\Local\\Temp\\ipykernel_17464\\3715355861.py:8: FutureWarning: A value is trying to be set on a copy of a DataFrame or Series through chained assignment using an inplace method.\n",
      "The behavior will change in pandas 3.0. This inplace method will never work because the intermediate object on which we are setting values always behaves as a copy.\n",
      "\n",
      "For example, when doing 'df[col].method(value, inplace=True)', try using 'df.method({col: value}, inplace=True)' or df[col] = df[col].method(value) instead, to perform the operation inplace on the original object.\n",
      "\n",
      "\n",
      "  df[col].fillna(df[col].mode()[0], inplace=True)\n"
     ]
    }
   ],
   "source": [
    "#Task 2\n",
    "# Mengisi missing values numerik dengan median\n",
    "for col in df.select_dtypes(include=['float64', 'int64']).columns:\n",
    "    df[col].fillna(df[col].median(), inplace=True)\n",
    "\n",
    "# Mengisi missing values kategorikal dengan modus\n",
    "for col in df.select_dtypes(include=['object']).columns:\n",
    "    df[col].fillna(df[col].mode()[0], inplace=True)\n",
    "\n",
    "# Menampilkan DataFrame yang sudah terisi\n",
    "print(df)\n"
   ]
  },
  {
   "cell_type": "code",
   "execution_count": 17,
   "id": "1bfdbd72",
   "metadata": {},
   "outputs": [
    {
     "name": "stdout",
     "output_type": "stream",
     "text": [
      "Jumlah duplikasi: 0\n"
     ]
    }
   ],
   "source": [
    "# Task3\n",
    "\n",
    "# Mendeteksi duplikasi\n",
    "duplicate_rows = df[df.duplicated()]\n",
    "print(\"Jumlah duplikasi:\", len(duplicate_rows))\n",
    "\n",
    "# Menghapus data duplikat\n",
    "df.drop_duplicates(inplace=True)"
   ]
  },
  {
   "cell_type": "markdown",
   "id": "ffbf2fc1",
   "metadata": {},
   "source": [
    "### Another Code for the Same Problem"
   ]
  },
  {
   "cell_type": "code",
   "execution_count": 20,
   "id": "c78cb553",
   "metadata": {},
   "outputs": [],
   "source": [
    "# Pastikan semua nilai di kolom kategorikal menjadi string\n",
    "cat_cols = df.select_dtypes(include=['object', 'category']).columns\n",
    "for col in cat_cols:\n",
    "    df[col] = df[col].astype(str)\n",
    "\n",
    "# Terapkan LabelEncoder\n",
    "from sklearn.preprocessing import LabelEncoder\n",
    "\n",
    "encoder = LabelEncoder()\n",
    "for col in cat_cols:\n",
    "    df[col] = encoder.fit_transform(df[col])"
   ]
  },
  {
   "cell_type": "code",
   "execution_count": 21,
   "id": "07efb48c",
   "metadata": {},
   "outputs": [],
   "source": [
    "# Ganti NaN dengan string khusus (misalnya \"Unknown\")\n",
    "for col in cat_cols:\n",
    "    df[col] = df[col].fillna(\"Unknown\")\n",
    "\n",
    "# Terapkan LabelEncoder kembali\n",
    "for col in cat_cols:\n",
    "    df[col] = encoder.fit_transform(df[col])\n"
   ]
  },
  {
   "cell_type": "code",
   "execution_count": 22,
   "id": "2215c555",
   "metadata": {},
   "outputs": [],
   "source": [
    "# Periksa isi tiap kolom kategorikal\n",
    "for col in cat_cols:\n",
    "    print(f\"Kolom: {col}, Unique Values: {df[col].unique()}\")"
   ]
  },
  {
   "cell_type": "markdown",
   "id": "5b708140",
   "metadata": {},
   "source": [
    "### Export Dataset"
   ]
  },
  {
   "cell_type": "code",
   "execution_count": 23,
   "id": "e7f30da0",
   "metadata": {},
   "outputs": [
    {
     "name": "stdout",
     "output_type": "stream",
     "text": [
      "Dataset telah disimpan sebagai 'cleaned_dataset_downloaded.csv'.\n"
     ]
    }
   ],
   "source": [
    "# Menyimpan ke file CSV baru\n",
    "df.to_csv(\"cleaned_dataset_downloaded.csv\", index=False)\n",
    "print(\"Dataset telah disimpan sebagai 'cleaned_dataset_downloaded.csv'.\")"
   ]
  },
  {
   "cell_type": "code",
   "execution_count": 24,
   "id": "85ba4ec7",
   "metadata": {},
   "outputs": [
    {
     "name": "stdout",
     "output_type": "stream",
     "text": [
      "Dataset disimpan di lokasi: d:\\Downloads\\Anime\n"
     ]
    }
   ],
   "source": [
    "import os\n",
    "print(\"Dataset disimpan di lokasi:\", os.getcwd())\n"
   ]
  },
  {
   "cell_type": "markdown",
   "id": "f9ea63bf",
   "metadata": {},
   "source": [
    "## Pertemuan 13: Data Visualization using Matplotlib and Seaborn"
   ]
  },
  {
   "cell_type": "markdown",
   "id": "e3c45374",
   "metadata": {},
   "source": [
    "### Topics Covered\n",
    "- Plotting data distributions and comparisons.\n",
    "- Creating time series visualizations.\n",
    "- Visualizing relationships between variables.\n",
    "- Customizing plot styles and layouts.\n"
   ]
  },
  {
   "cell_type": "code",
   "execution_count": null,
   "id": "37b534ba",
   "metadata": {},
   "outputs": [],
   "source": [
    "# Exercise 1: Basic Plotting with Matplotlib\n",
    "import matplotlib.pyplot as plt\n",
    "\n",
    "# Data for plotting\n",
    "categories = ['Category A', 'Category B', 'Category C']\n",
    "values = [23, 17, 35]\n",
    "\n",
    "# Plot\n",
    "plt.figure(figsize=(8, 5))\n",
    "plt.bar(categories, values, color='cyan')\n",
    "plt.xlabel('Categories')\n",
    "plt.ylabel('Values')\n",
    "plt.title('Bar Chart of Categories')\n",
    "plt.show()\n"
   ]
  },
  {
   "cell_type": "code",
   "execution_count": null,
   "id": "beb842ca",
   "metadata": {},
   "outputs": [],
   "source": [
    "# Exercise 2: Seaborn for Relationship Visualization\n",
    "import seaborn as sns\n",
    "import pandas as pd\n",
    "\n",
    "# Sample data\n",
    "data = {\n",
    "    'Hours Studied': [1, 2, 3, 4, 5, 6, 7, 8, 9, 10],\n",
    "    'Scores': [35, 45, 48, 52, 57, 60, 63, 68, 72, 78]\n",
    "}\n",
    "df = pd.DataFrame(data)\n",
    "\n",
    "# Plot\n",
    "sns.regplot(x='Hours Studied', y='Scores', data=df)\n",
    "plt.title('Relationship between Hours Studied and Scores')\n",
    "plt.show()\n"
   ]
  },
  {
   "cell_type": "markdown",
   "id": "770a52e0",
   "metadata": {},
   "source": [
    "### Practice Tasks\n",
    "- Use Matplotlib to create a multi-bar chart to compare data across groups.\n",
    "- Generate scatter plots with Seaborn to explore relationships between variables in a dataset.\n",
    "- Customize plot layouts and color schemes.\n"
   ]
  },
  {
   "cell_type": "code",
   "execution_count": 25,
   "id": "f54f60e7",
   "metadata": {},
   "outputs": [
    {
     "name": "stdout",
     "output_type": "stream",
     "text": [
      "   TransactionID  ProductName  Category   Price  Quantity  Date\n",
      "0              1            4         1  1000.0       2.0     0\n",
      "1              2            6         1   700.0       1.0     1\n",
      "2              3            8         0    15.0       3.0     2\n",
      "3              4            4         1  1000.0       2.0     0\n",
      "4              5            0         2   250.0       1.0     3\n"
     ]
    }
   ],
   "source": [
    "#Task 1\n",
    "import pandas as pd\n",
    "\n",
    "# Memuat dataset yang sudah dibersihkan\n",
    "file_path = r\"D:\\School\\Semester 3\\BigData\\Prak12 dan 13\\cleaned_dataset_transaction_downloaded.csv\"\n",
    "df = pd.read_csv(file_path)\n",
    "\n",
    "# Menampilkan 5 baris pertama untuk memeriksa\n",
    "print(df.head())\n"
   ]
  },
  {
   "cell_type": "code",
   "execution_count": null,
   "id": "cbe0d525",
   "metadata": {},
   "outputs": [
    {
     "data": {
      "image/png": "[encoded data removed]",
      "text/plain": [
       "<Figure size 800x600 with 1 Axes>"
      ]
     },
     "metadata": {},
     "output_type": "display_data"
    }
   ],
   "source": [
    "#Task 2\n",
    "\n",
    "import matplotlib.pyplot as plt\n",
    "import seaborn as sns\n",
    "\n",
    "# Scatter plot to explore the relationship between total revenue and total expenses\n",
    "plt.figure(figsize=(8, 6))\n",
    "sns.scatterplot(x='Price', y='Quantity', data=df, color='blue')\n",
    "plt.title('Scatter Plot: Price vs Quantity')\n",
    "plt.xlabel('Price (CY)')\n",
    "plt.ylabel('Quantity (CY)')\n",
    "plt.tight_layout()\n",
    "plt.show()"
   ]
  },
  {
   "cell_type": "code",
   "execution_count": 29,
   "id": "cbd9f599",
   "metadata": {},
   "outputs": [
    {
     "data": {
      "image/png": "[encoded data removed]",
      "text/plain": [
       "<Figure size 1200x800 with 2 Axes>"
      ]
     },
     "metadata": {},
     "output_type": "display_data"
    }
   ],
   "source": [
    "# Calculate correlation matrix\n",
    "corr_matrix = df.corr()\n",
    "\n",
    "# Display the correlation matrix\n",
    "plt.figure(figsize=(12, 8))\n",
    "sns.heatmap(corr_matrix, annot=True, cmap='coolwarm', fmt='.2f', cbar=True)\n",
    "plt.title(\"Correlation Matrix\")\n",
    "plt.tight_layout()\n",
    "plt.show()\n"
   ]
  },
  {
   "cell_type": "markdown",
   "id": "66d8f5b9",
   "metadata": {},
   "source": [
    "## Homework for Students\n",
    "- **Pertemuan 12**: Clean a real-world dataset (from Kaggle or another source), perform normalization, handle outliers, and prepare the data for analysis.\n",
    "- **Pertemuan 13**: Create a dashboard with multiple visualizations to summarize a dataset of your choice.\n"
   ]
  }
 ],
 "metadata": {
  "kernelspec": {
   "display_name": "PraktikumBigData07ms",
   "language": "python",
   "name": "python3"
  },
  "language_info": {
   "codemirror_mode": {
    "name": "ipython",
    "version": 3
   },
   "file_extension": ".py",
   "mimetype": "text/x-python",
   "name": "python",
   "nbconvert_exporter": "python",
   "pygments_lexer": "ipython3",
   "version": "3.11.9"
  }
 },
 "nbformat": 4,
 "nbformat_minor": 5
}
