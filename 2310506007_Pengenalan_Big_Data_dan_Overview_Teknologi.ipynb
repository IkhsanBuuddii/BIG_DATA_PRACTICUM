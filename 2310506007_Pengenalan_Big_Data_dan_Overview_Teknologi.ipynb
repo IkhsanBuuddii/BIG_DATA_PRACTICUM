{
 "cells": [
  {
   "cell_type": "markdown",
   "id": "10c25d6f",
   "metadata": {
    "id": "10c25d6f"
   },
   "source": [
    "# Hands-On Pertemuan 1: Pengenalan Big Data dan Overview Teknologi"
   ]
  },
  {
   "cell_type": "markdown",
   "id": "7117dfdb",
   "metadata": {
    "id": "7117dfdb"
   },
   "source": [
    "## Tujuan\n",
    "Pada akhir praktikum ini, mahasiswa diharapkan mampu:\n",
    "1. Memahami konsep dasar Big Data.\n",
    "2. Menjelaskan karakteristik dan tantangan Big Data (Volume, Variety, Velocity, dan Veracity).\n",
    "3. Mengenal teknologi yang digunakan dalam ekosistem Big Data.\n",
    "4. Menginstal dan mengonfigurasi Anaconda untuk bekerja dengan alat Big Data seperti Hadoop dan Spark.\n",
    "5. Memulai praktik sederhana terkait pengolahan data menggunakan PySpark dan Pandas."
   ]
  },
  {
   "cell_type": "markdown",
   "id": "7e805141",
   "metadata": {
    "id": "7e805141"
   },
   "source": [
    "## Peralatan yang Dibutuhkan\n",
    "1. Anaconda (untuk manajemen lingkungan)\n",
    "2. Jupyter Notebook (bawaan dari Anaconda)\n",
    "3. PySpark (untuk pemrosesan data skala besar)\n",
    "4. Pandas (untuk data analysis)\n",
    "5. Python (bawaan dari Anaconda)"
   ]
  },
  {
   "cell_type": "markdown",
   "id": "8daa78a0",
   "metadata": {
    "id": "8daa78a0"
   },
   "source": [
    "## Langkah-Langkah Hands-On"
   ]
  },
  {
   "cell_type": "markdown",
   "id": "23b963c0",
   "metadata": {
    "id": "23b963c0"
   },
   "source": [
    "### 1. Instalasi Anaconda\n",
    "- **Langkah 1: Unduh dan Instal Anaconda**\n",
    "  Anaconda adalah platform distribusi Python yang menyertakan berbagai alat pengembangan, termasuk Jupyter Notebook. Ikuti langkah-langkah instalasi sesuai sistem operasi:\n",
    "  - Unduh Anaconda: [Download Anaconda](https://www.anaconda.com/products/individual)\n",
    "  - Instal sesuai instruksi yang ada di situs web tersebut (Windows/Mac/Linux).\n",
    "\n",
    "- **Langkah 2: Menginstal PySpark di Anaconda**\n",
    "  Setelah Anaconda terinstal, tambahkan PySpark:\n",
    "  ```bash\n",
    "  pip install pyspark==3.4.1\n",
    "  ```\n",
    "\n",
    "- **Langkah 3: Menginstal Pandas**\n",
    "  Untuk memudahkan data analysis, install Pandas:\n",
    "  ```bash\n",
    "  pip install pandas\n",
    "  ```\n",
    "\n",
    "- **Langkah 4: Menginstal Findspark**\n",
    "  ```bash\n",
    "  pip install findspark\n",
    "  ```"
   ]
  },
  {
   "cell_type": "markdown",
   "id": "208f1a45",
   "metadata": {
    "id": "208f1a45"
   },
   "source": [
    "### 2. Pengenalan dan Praktik Dasar PySpark dan Pandas\n",
    "- **Langkah 1: Membuka Jupyter Notebook**\n",
    "  Setelah instalasi selesai, buka Jupyter Notebook melalui Anaconda Navigator atau melalui terminal dengan perintah:\n",
    "  ```bash\n",
    "  jupyter notebook\n",
    "  ```\n",
    "\n",
    "- **Langkah 2: Membuat Project Notebook Baru**\n",
    "  Di Jupyter Notebook, buat notebook baru untuk praktikum ini.\n",
    "\n",
    "- **Langkah 3: Praktik dengan PySpark**\n",
    "  Buat program sederhana untuk memulai dengan PySpark. Gunakan PySpark untuk membuat DataFrame dan memanipulasi data sederhana:"
   ]
  },
  {
   "cell_type": "code",
   "execution_count": 1,
   "id": "KERSZShIH_aN",
   "metadata": {
    "id": "KERSZShIH_aN"
   },
   "outputs": [],
   "source": [
    "import findspark\n",
    "findspark.init()"
   ]
  },
  {
   "attachments": {},
   "cell_type": "markdown",
   "id": "3b447146-8bd8-43d3-816e-84786c2242b0",
   "metadata": {
    "id": "8747276f"
   },
   "source": [
    "- **Tugas 1**: Jalankan kode di atas dan buat modifikasi dengan menambahkan data lain berupa kolom pekerjaan, hobi dan gender."
   ]
  },
  {
   "cell_type": "code",
   "execution_count": 19,
   "id": "6a8e720d-77b9-4b74-8a97-e727ef433ef1",
   "metadata": {
    "id": "f78a5053"
   },
   "outputs": [
    {
     "name": "stdout",
     "output_type": "stream",
     "text": [
      "+-----+----+----------+--------+------+\n",
      "| Nama|Usia| Pekerjaan|    Hobi|Gender|\n",
      "+-----+----+----------+--------+------+\n",
      "|  Ali|  34|       PNS|  Renang|  Pria|\n",
      "| Budi|  23|     Atlit|    Lari|  Pria|\n",
      "|Citra|  29|      Guru|  Hiking|Wanita|\n",
      "| Dina|  45|Freelancer|Berkebun|Wanita|\n",
      "+-----+----+----------+--------+------+\n",
      "\n"
     ]
    }
   ],
   "source": [
    "from pyspark.sql import SparkSession\n",
    "\n",
    "# Memulai Spark session\n",
    "spark = SparkSession.builder.appName(\"BigDataPractice\").getOrCreate()\n",
    "\n",
    "# Membuat DataFrame sederhana\n",
    "data = [(\"Ali\", 34, \"PNS\", \"Renang\", \"Pria\"), (\"Budi\", 23,\"Atlit\", \"Lari\", \"Pria\"), (\"Citra\", 29,\"Guru\", \"Hiking\", \"Wanita\"), (\"Dina\", 45,\"Freelancer\", \"Berkebun\", \"Wanita\")]\n",
    "columns = [\"Nama\", \"Usia\", \"Pekerjaan\", \"Hobi\", \"Gender\"]\n",
    "df = spark.createDataFrame(data, columns)\n",
    "\n",
    "# Menampilkan DataFrame\n",
    "df.show()\n"
   ]
  },
  {
   "cell_type": "markdown",
   "id": "1eeca92c-91dc-47c9-9667-e97190c6b186",
   "metadata": {
    "id": "f78a5053"
   },
   "source": [
    "\r\n",
    "1. **Memulai Spark Session**:  \r\n",
    "   - `SparkSession.builder.appName(\"BigDataPractice\").getOrCreate()` - Membuat dan mengonfigurasi sesi Spark dengan nama aplikasi \"BigDataPractice\".\r\n",
    "\r\n",
    "2. **Membuat DataFrame**:  \r\n",
    "   - Data: Daftar tuple berisi data individu dengan informasi nama, usia, pekerjaan, hobi, dan gender.  \r\n",
    "   - Kolom: Daftar nama kolom yang sesuai dengan data.\r\n",
    "\r\n",
    "3. **Menampilkan DataFrame**:  \r\n",
    "   - `df.show()` - Menampilkan DataFrame di console dengan format tabular.t tabular."
   ]
  },
  {
   "cell_type": "code",
   "execution_count": 18,
   "id": "5d419838-d57a-4ba2-b91a-69175cbe1152",
   "metadata": {
    "id": "f78a5053"
   },
   "outputs": [
    {
     "name": "stdout",
     "output_type": "stream",
     "text": [
      "+-----+----+----------+\n",
      "| Nama|Usia| Pekerjaan|\n",
      "+-----+----+----------+\n",
      "|  Ali|  34|       PNS|\n",
      "| Budi|  23|     Atlit|\n",
      "|Citra|  29|      Guru|\n",
      "| Dina|  45|Freelancer|\n",
      "+-----+----+----------+\n",
      "\n",
      "+-----+----+----------+--------+\n",
      "| Nama|Usia| Pekerjaan|    Hobi|\n",
      "+-----+----+----------+--------+\n",
      "|  Ali|  34|       PNS|  Renang|\n",
      "| Budi|  23|     Atlit|    Lari|\n",
      "|Citra|  29|      Guru|  Hiking|\n",
      "| Dina|  45|Freelancer|Berkebun|\n",
      "+-----+----+----------+--------+\n",
      "\n",
      "+-----+----+----------+--------+------+\n",
      "| Nama|Usia| Pekerjaan|    Hobi|Gender|\n",
      "+-----+----+----------+--------+------+\n",
      "|  Ali|  34|       PNS|  Renang|  Pria|\n",
      "| Budi|  23|     Atlit|    Lari|  Pria|\n",
      "|Citra|  29|      Guru|  Hiking|Wanita|\n",
      "| Dina|  45|Freelancer|Berkebun|Wanita|\n",
      "+-----+----+----------+--------+------+\n",
      "\n"
     ]
    }
   ],
   "source": [
    "from pyspark.sql import SparkSession\n",
    "from pyspark.sql.functions import lit, when\n",
    "\n",
    "# Memulai Spark session\n",
    "spark = SparkSession.builder.appName(\"BigDataPractice\").getOrCreate()\n",
    "\n",
    "# Membuat DataFrame sederhana dengan dua kolom\n",
    "data = [(\"Ali\", 34), (\"Budi\", 23), (\"Citra\", 29), (\"Dina\", 45)]\n",
    "columns = [\"Nama\", \"Usia\"]\n",
    "df = spark.createDataFrame(data, columns)\n",
    "\n",
    "# Menambahkan kolom \"Pekerjaan\"\n",
    "df = df.withColumn(\"Pekerjaan\", when(df[\"Nama\"] == \"Ali\", \"PNS\")\n",
    "                                .when(df[\"Nama\"] == \"Budi\", \"Atlit\")\n",
    "                                .when(df[\"Nama\"] == \"Citra\", \"Guru\")\n",
    "                                .when(df[\"Nama\"] == \"Dina\", \"Freelancer\"))\n",
    "df.show()\n",
    "\n",
    "# Menambahkan kolom \"Hobi\"\n",
    "df = df.withColumn(\"Hobi\", when(df[\"Nama\"] == \"Ali\", \"Renang\")\n",
    "                            .when(df[\"Nama\"] == \"Budi\", \"Lari\")\n",
    "                            .when(df[\"Nama\"] == \"Citra\", \"Hiking\")\n",
    "                            .when(df[\"Nama\"] == \"Dina\", \"Berkebun\"))\n",
    "df.show()\n",
    "\n",
    "# Menambahkan kolom \"Gender\"\n",
    "df = df.withColumn(\"Gender\", when(df[\"Nama\"] == \"Ali\", \"Pria\")\n",
    "                              .when(df[\"Nama\"] == \"Budi\", \"Pria\")\n",
    "                              .when(df[\"Nama\"] == \"Citra\", \"Wanita\")\n",
    "                              .when(df[\"Nama\"] == \"Dina\", \"Wanita\"))\n",
    "\n",
    "# Menampilkan DataFrame akhir\n",
    "df.show()\n",
    "\n"
   ]
  },
  {
   "attachments": {},
   "cell_type": "markdown",
   "id": "4f56ac7c-41df-4c60-95b3-5dae5d00c083",
   "metadata": {
    "id": "8747276f"
   },
   "source": [
    "\r\n",
    "1. **Memulai Spark Session**:  \r\n",
    "   - `SparkSession.builder.appName(\"BigDataPractice\").getOrCreate()` - Membuat dan mengonfigurasi sesi Spark.\r\n",
    "\r\n",
    "2. **Membuat DataFrame Awal**:  \r\n",
    "   - `data`: Daftar tuple dengan nama dan usia.  \r\n",
    "   - `columns`: \"Nama\" dan \"Usia\".\r\n",
    "\r\n",
    "3. **Menambahkan Kolom \"Pekerjaan\"**:  \r\n",
    "   - Menggunakan fungsi `when` untuk menetapkan nilai pekerjaan berdasarkan nama.\r\n",
    "\r\n",
    "4. **Menambahkan Kolom \"Hobi\"**:  \r\n",
    "   - Menggunakan fungsi `when` untuk menetapkan nilai hobi berdasarkan nama.\r\n",
    "\r\n",
    "5. **Menambahkan Kolom \"Gender\"**:  \r\n",
    "   - Menggunakan fungsi `when` untuk menetapkan nilai gender berdasarkan nama.\r\n",
    "\r\n",
    "6. **Menampilkan DataFrame Akhir**:  \r\n",
    "   - `df.show()` - Menampilkan DataFrame setelah semua kolom tambahan (\"Pekerjaan\", \"Hobi\", dan \"Gender\") ditambahkan."
   ]
  },
  {
   "cell_type": "markdown",
   "id": "1f84a333",
   "metadata": {
    "id": "1f84a333"
   },
   "source": [
    "### 3. Praktik PySpark Lanjutan\n",
    "- **Latihan 1**: Memanipulasi Data dengan PySpark."
   ]
  },
  {
   "cell_type": "markdown",
   "id": "e06767bc",
   "metadata": {
    "id": "e06767bc"
   },
   "source": [
    "- **Tugas 2**: Lakukan filter, penghitungan rata-rata, dan pengurutan data menggunakan PySpark."
   ]
  },
  {
   "cell_type": "code",
   "execution_count": 10,
   "id": "65e8eef1-f43b-4bf4-a6fb-4b0d89b3f745",
   "metadata": {},
   "outputs": [
    {
     "name": "stdout",
     "output_type": "stream",
     "text": [
      "DataFrame asli:\n",
      "+-----+----+----------+--------+------+\n",
      "| Nama|Usia| Pekerjaan|    Hobi|Gender|\n",
      "+-----+----+----------+--------+------+\n",
      "|  Ali|  34|       PNS|  Renang|  Pria|\n",
      "| Budi|  23|     Atlit|    Lari|  Pria|\n",
      "|Citra|  29|      Guru|  Hiking|Wanita|\n",
      "| Dina|  45|Freelancer|Berkebun|Wanita|\n",
      "+-----+----+----------+--------+------+\n",
      "\n",
      "Data setelah difilter (Usia > 30):\n",
      "+----+----+----------+--------+------+\n",
      "|Nama|Usia| Pekerjaan|    Hobi|Gender|\n",
      "+----+----+----------+--------+------+\n",
      "| Ali|  34|       PNS|  Renang|  Pria|\n",
      "|Dina|  45|Freelancer|Berkebun|Wanita|\n",
      "+----+----+----------+--------+------+\n",
      "\n",
      "Rata-rata Usia:\n",
      "+---------+\n",
      "|avg(Usia)|\n",
      "+---------+\n",
      "|    32.75|\n",
      "+---------+\n",
      "\n",
      "Data diurutkan berdasarkan Nama (ascending):\n",
      "+-----+----+----------+--------+------+\n",
      "| Nama|Usia| Pekerjaan|    Hobi|Gender|\n",
      "+-----+----+----------+--------+------+\n",
      "|  Ali|  34|       PNS|  Renang|  Pria|\n",
      "| Budi|  23|     Atlit|    Lari|  Pria|\n",
      "|Citra|  29|      Guru|  Hiking|Wanita|\n",
      "| Dina|  45|Freelancer|Berkebun|Wanita|\n",
      "+-----+----+----------+--------+------+\n",
      "\n",
      "Data diurutkan berdasarkan Usia (ascending):\n",
      "+-----+----+----------+--------+------+\n",
      "| Nama|Usia| Pekerjaan|    Hobi|Gender|\n",
      "+-----+----+----------+--------+------+\n",
      "| Budi|  23|     Atlit|    Lari|  Pria|\n",
      "|Citra|  29|      Guru|  Hiking|Wanita|\n",
      "|  Ali|  34|       PNS|  Renang|  Pria|\n",
      "| Dina|  45|Freelancer|Berkebun|Wanita|\n",
      "+-----+----+----------+--------+------+\n",
      "\n",
      "Data diurutkan berdasarkan Pekerjaan (ascending):\n",
      "+-----+----+----------+--------+------+\n",
      "| Nama|Usia| Pekerjaan|    Hobi|Gender|\n",
      "+-----+----+----------+--------+------+\n",
      "| Budi|  23|     Atlit|    Lari|  Pria|\n",
      "| Dina|  45|Freelancer|Berkebun|Wanita|\n",
      "|Citra|  29|      Guru|  Hiking|Wanita|\n",
      "|  Ali|  34|       PNS|  Renang|  Pria|\n",
      "+-----+----+----------+--------+------+\n",
      "\n",
      "Data diurutkan berdasarkan Hobi (ascending):\n",
      "+-----+----+----------+--------+------+\n",
      "| Nama|Usia| Pekerjaan|    Hobi|Gender|\n",
      "+-----+----+----------+--------+------+\n",
      "| Dina|  45|Freelancer|Berkebun|Wanita|\n",
      "|Citra|  29|      Guru|  Hiking|Wanita|\n",
      "| Budi|  23|     Atlit|    Lari|  Pria|\n",
      "|  Ali|  34|       PNS|  Renang|  Pria|\n",
      "+-----+----+----------+--------+------+\n",
      "\n"
     ]
    }
   ],
   "source": [
    "from pyspark.sql import SparkSession\n",
    "from pyspark.sql.functions import avg\n",
    "\n",
    "# Memulai Spark session\n",
    "spark = SparkSession.builder.appName(\"BigDataPractice\").getOrCreate()\n",
    "\n",
    "# Membuat DataFrame sederhana\n",
    "data = [(\"Ali\", 34, \"PNS\", \"Renang\", \"Pria\"), \n",
    "        (\"Budi\", 23, \"Atlit\", \"Lari\", \"Pria\"), \n",
    "        (\"Citra\", 29, \"Guru\", \"Hiking\", \"Wanita\"), \n",
    "        (\"Dina\", 45, \"Freelancer\", \"Berkebun\", \"Wanita\")]\n",
    "columns = [\"Nama\", \"Usia\", \"Pekerjaan\", \"Hobi\", \"Gender\"]\n",
    "df = spark.createDataFrame(data, columns)\n",
    "\n",
    "# Menampilkan DataFrame asli\n",
    "print(\"DataFrame asli:\")\n",
    "df.show()\n",
    "\n",
    "# Filtering data (Usia > 30)\n",
    "df_filtered = df.filter(df['Usia'] > 30)\n",
    "print(\"Data setelah difilter (Usia > 30):\")\n",
    "df_filtered.show()\n",
    "\n",
    "# Menghitung rata-rata usia\n",
    "print(\"Rata-rata Usia:\")\n",
    "df.groupBy().agg(avg(\"Usia\")).show()\n",
    "\n",
    "# Mengurutkan data berdasarkan Nama\n",
    "print(\"Data diurutkan berdasarkan Nama (ascending):\")\n",
    "df_sorted_by_nama = df.orderBy(\"Nama\", ascending=True)\n",
    "df_sorted_by_nama.show()\n",
    "\n",
    "# Mengurutkan data berdasarkan Usia\n",
    "print(\"Data diurutkan berdasarkan Usia (ascending):\")\n",
    "df_sorted_by_usia = df.orderBy(\"Usia\", ascending=True)\n",
    "df_sorted_by_usia.show()\n",
    "\n",
    "# Mengurutkan data berdasarkan Pekerjaan\n",
    "print(\"Data diurutkan berdasarkan Pekerjaan (ascending):\")\n",
    "df_sorted_by_pekerjaan = df.orderBy(\"Pekerjaan\", ascending=True)\n",
    "df_sorted_by_pekerjaan.show()\n",
    "\n",
    "# Mengurutkan data berdasarkan Hobi\n",
    "print(\"Data diurutkan berdasarkan Hobi (ascending):\")\n",
    "df_sorted_by_hobi = df.orderBy(\"Hobi\", ascending=True)\n",
    "df_sorted_by_hobi.show()\n"
   ]
  },
  {
   "cell_type": "markdown",
   "id": "9e4c75c4-149d-4b0e-9baf-bdd1e5dc3606",
   "metadata": {},
   "source": [
    "\r\n",
    "1. **Memulai Spark Session**:  \r\n",
    "   - `SparkSession.builder.appName(\"BigDataPractice\").getOrCreate()` - Membuat sesi Spark dengan nama aplikasi \"BigDataPractice\".\r\n",
    "\r\n",
    "2. **Membuat DataFrame**:  \r\n",
    "   - `data`: Daftar tuple yang berisi nama, usia, pekerjaan, hobi, dan gender.  \r\n",
    "   - `columns`: Kolom \"Nama\", \"Usia\", \"Pekerjaan\", \"Hobi\", \"Gender\".\r\n",
    "\r\n",
    "3. **Menampilkan DataFrame Asli**:  \r\n",
    "   - `df.show()` - Menampilkan DataFrame awal.\r\n",
    "\r\n",
    "4. **Filtering Data**:  \r\n",
    "   - Menggunakan filter untuk memilih baris dengan usia lebih dari 30 tahun.  \r\n",
    "   - Menampilkan hasil filter dengan `df_filtered.show()`.\r\n",
    "\r\n",
    "5. **Menghitung Rata-Rata Usia**:  \r\n",
    "   - Menggunakan `groupBy().agg(avg(\"Usia\"))` untuk menghitung rata-rata usia dari DataFrame.\r\n",
    "\r\n",
    "6. **Mengurutkan Data**:  \r\n",
    "   - Berdasarkan Nama: `df.orderBy(\"Nama\", ascending=True)`  \r\n",
    "   - Berdasarkan Usia: `df.orderBy(\"Usia\", ascending=True)`  \r\n",
    "   - Berdasarkan Pekerjaan: `df.orderBy(\"Pekerjaan\", ascending=True)`  \r\n",
    "   - Berdasarkan Hobi: `df.orderBy(\"Hobi\", ascending=True)`  \r\n",
    "   - Menampilkan DataFrame yang telah diurutkan sesuai dengan kriteria yang ditentukan."
   ]
  },
  {
   "cell_type": "markdown",
   "id": "fe1e34a5",
   "metadata": {
    "id": "fe1e34a5"
   },
   "source": [
    "### 4. Praktik dengan Pandas\n",
    "- **Latihan 2**:  Buat DataFrame menggunakan Pandas:"
   ]
  },
  {
   "cell_type": "markdown",
   "id": "7d4dbf05-030d-4666-9336-7bb767035973",
   "metadata": {
    "id": "9da455f1"
   },
   "source": [
    "- **Tugas 3**: Modifikasi DataFrame Pandas dengan menambahkan kolom baru dan melakukan operasi seperti filtering data berdasarkan usia."
   ]
  },
  {
   "cell_type": "code",
   "execution_count": 15,
   "id": "6ed5db9b-bb40-42b9-95e6-46e92cb9ae6a",
   "metadata": {
    "id": "9da455f1"
   },
   "outputs": [
    {
     "name": "stdout",
     "output_type": "stream",
     "text": [
      "DataFrame setelah penambahan kolom 'Status':\n",
      "    Nama  Usia   Pekerjaan      Hobi  Gender      Status\n",
      "0    Ali    34         PNS    Renang    Pria  di atas 30\n",
      "1   Budi    23       Atlit      Lari    Pria    di bawah\n",
      "2  Citra    29        Guru    Hiking  Wanita    di bawah\n",
      "3   Dina    45  Freelancer  Berkebun  Wanita  di atas 30\n",
      "\n",
      "DataFrame setelah filtering usia di atas 30:\n",
      "   Nama  Usia   Pekerjaan      Hobi  Gender      Status\n",
      "0   Ali    34         PNS    Renang    Pria  di atas 30\n",
      "3  Dina    45  Freelancer  Berkebun  Wanita  di atas 30\n"
     ]
    }
   ],
   "source": [
    "import pandas as pd\n",
    "\n",
    "# Membuat DataFrame Pandas\n",
    "data = [(\"Ali\", 34, \"PNS\", \"Renang\", \"Pria\"), \n",
    "        (\"Budi\", 23, \"Atlit\", \"Lari\", \"Pria\"), \n",
    "        (\"Citra\", 29, \"Guru\", \"Hiking\", \"Wanita\"), \n",
    "        (\"Dina\", 45, \"Freelancer\", \"Berkebun\", \"Wanita\")]\n",
    "columns = [\"Nama\", \"Usia\", \"Pekerjaan\", \"Hobi\", \"Gender\"]\n",
    "df_pandas = pd.DataFrame(data, columns=columns)\n",
    "\n",
    "# Menambahkan kolom baru \"Status\"\n",
    "df_pandas['Status'] = df_pandas['Usia'].apply(lambda usia: 'di atas 30' if usia > 30 else 'di bawah')\n",
    "\n",
    "# Menampilkan DataFrame setelah penambahan kolom\n",
    "print(\"DataFrame setelah penambahan kolom 'Status':\")\n",
    "print(df_pandas)\n",
    "\n",
    "# Filtering data untuk usia di atas 30\n",
    "df_filtered = df_pandas[df_pandas['Usia'] > 30]\n",
    "\n",
    "# Menampilkan DataFrame setelah filtering\n",
    "print(\"\\nDataFrame setelah filtering usia di atas 30:\")\n",
    "print(df_filtered)\n"
   ]
  },
  {
   "cell_type": "markdown",
   "id": "f76d5f31-8652-489c-8117-59f39924668c",
   "metadata": {
    "id": "9da455f1"
   },
   "source": [
    "\r\n",
    "1. **Membuat DataFrame**:  \r\n",
    "   - `data`: Daftar tuple dengan nama, usia, pekerjaan, hobi, dan gender.  \r\n",
    "   - `columns`: Daftar nama kolom.  \r\n",
    "   - `df_pandas`: DataFrame dengan kolom-kolom yang ditentukan.\r\n",
    "\r\n",
    "2. **Menambahkan Kolom Baru \"Status\"**:  \r\n",
    "   - Menggunakan `apply` dengan fungsi lambda untuk menambahkan kolom \"Status\".  \r\n",
    "   - Fungsi lambda menetapkan nilai \"di atas 30\" jika usia lebih dari 30 dan \"di bawah\" jika tidak.\r\n",
    "\r\n",
    "3. **Menampilkan DataFrame Setelah Penambahan Kolom**:  \r\n",
    "   - `print(df_pandas)` - Menampilkan DataFrame dengan kolom \"Status\" yang baru ditambahkan.\r\n",
    "\r\n",
    "4. **Filtering Data untuk Usia di Atas 30**:  \r\n",
    "   - `df_filtered = df_pandas[df_pandas['Usia'] > 30]` - Memilih baris dengan usia lebih dari 30.\r\n",
    "\r\n",
    "5. **Menampilkan DataFrame Setelah Filtering**:  \r\n",
    "   - `print(df_filtered)` - Menampilkan DataFrame yang hanya berisi baris dengan usia di atas 30."
   ]
  },
  {
   "cell_type": "markdown",
   "id": "c0042b2b",
   "metadata": {
    "id": "c0042b2b"
   },
   "source": [
    "### 5. Praktik Pandas Lanjutan\n",
    "- **Latihan 3**: Penggunaan Pandas untuk operasi lebih kompleks."
   ]
  },
  {
   "cell_type": "code",
   "execution_count": 1,
   "id": "c1a8c539-b226-4963-93db-672cf89266cc",
   "metadata": {
    "id": "884ed75d"
   },
   "outputs": [
    {
     "name": "stdout",
     "output_type": "stream",
     "text": [
      "DataFrame setelah penggabungan:\n",
      "    Nama  Usia Pekerjaan\n",
      "0    Ali    34    Dokter\n",
      "1   Budi    23      Guru\n",
      "2  Citra    29  Insinyur\n",
      "3   Dina    45   Perawat\n",
      "\n",
      "Statistik Deskriptif:\n",
      "            Usia\n",
      "count   4.000000\n",
      "mean   32.750000\n",
      "std     9.322911\n",
      "min    23.000000\n",
      "25%    27.500000\n",
      "50%    31.500000\n",
      "75%    36.750000\n",
      "max    45.000000\n"
     ]
    },
    {
     "data": {
      "image/png": "[encoded data removed]",
      "text/plain": [
       "<Figure size 640x480 with 1 Axes>"
      ]
     },
     "metadata": {},
     "output_type": "display_data"
    }
   ],
   "source": [
    "import pandas as pd\n",
    "import matplotlib.pyplot as plt\n",
    "\n",
    "# Membuat DataFrame Pandas pertama\n",
    "data_pandas = {\"Nama\": [\"Ali\", \"Budi\", \"Citra\", \"Dina\"], \"Usia\": [34, 23, 29, 45]}\n",
    "df_pandas = pd.DataFrame(data_pandas)\n",
    "\n",
    "# Membuat DataFrame Pandas kedua\n",
    "data_pandas_2 = {\"Nama\": [\"Ali\", \"Budi\", \"Citra\", \"Dina\"], \"Pekerjaan\": [\"Dokter\", \"Guru\", \"Insinyur\", \"Perawat\"]}\n",
    "df_pandas_2 = pd.DataFrame(data_pandas_2)\n",
    "\n",
    "# Menggabungkan kedua DataFrame berdasarkan kolom \"Nama\"\n",
    "df_joined = pd.merge(df_pandas, df_pandas_2, on=\"Nama\")\n",
    "\n",
    "# Menampilkan DataFrame hasil penggabungan\n",
    "print(\"DataFrame setelah penggabungan:\")\n",
    "print(df_joined)\n",
    "\n",
    "# Menghitung statistik deskriptif\n",
    "print(\"\\nStatistik Deskriptif:\")\n",
    "print(df_pandas.describe())\n",
    "\n",
    "# Membuat plot bar dari kolom 'Usia'\n",
    "df_pandas['Usia'].plot(kind='bar', title='Usia')\n",
    "plt.xlabel('Index')\n",
    "plt.ylabel('Usia')\n",
    "plt.xticks(rotation=0)  # Rotasi label x-axis agar tidak miring\n",
    "plt.show()\n"
   ]
  },
  {
   "cell_type": "markdown",
   "id": "2a52b910-b7cf-490c-8911-adfac48cc93a",
   "metadata": {
    "id": "884ed75d"
   },
   "source": [
    "\r\n",
    "1. **Membuat DataFrame Pandas Pertama**:  \r\n",
    "   - `data_pandas`: Data tentang nama dan usia.  \r\n",
    "   - `df_pandas`: DataFrame pertama dengan kolom \"Nama\" dan \"Usia\".\r\n",
    "\r\n",
    "2. **Membuat DataFrame Pandas Kedua**:  \r\n",
    "   - `data_pandas_2`: Data tentang nama dan pekerjaan.  \r\n",
    "   - `df_pandas_2`: DataFrame kedua dengan kolom \"Nama\" dan \"Pekerjaan\".\r\n",
    "\r\n",
    "3. **Menggabungkan DataFrame**:  \r\n",
    "   - `pd.merge(df_pandas, df_pandas_2, on=\"Nama\")`: Menggabungkan kedua DataFrame berdasarkan kolom \"Nama\".\r\n",
    "\r\n",
    "4. **Menampilkan DataFrame Hasil Penggabungan**:  \r\n",
    "   - `print(df_joined)` - Menampilkan DataFrame setelah penggabungan.\r\n",
    "\r\n",
    "5. **Menghitung Statistik Deskriptif**:  \r\n",
    "   - `df_pandas.describe()` - Menghitung statistik deskriptif (seperti count, mean, std, min, max) dari DataFrame `df_pandas`.\r\n",
    "\r\n",
    "6. **Membuat Plot Bar**:  \r\n",
    "   - `df_pandas['Usia'].plot(kind='bar', title='Usia')`: Membuat plot bar untuk kolom \"Usia\".  \r\n",
    "   - `plt.xlabel('Index')`: Menambahkan label pada sumbu x.  \r\n",
    "   - `plt.ylabel('Usia')`: Menambahkan label pada sumbu y.  \r\n",
    "   - `plt.xticks(rotation=0)`: Menjaga label sumbu x tetap horizontal.  \r\n",
    "   - `plt.show()` - Menampilkan plot."
   ]
  },
  {
   "cell_type": "markdown",
   "id": "e1e1cf3b-fb95-407b-949f-76fb58381821",
   "metadata": {
    "id": "884ed75d"
   },
   "source": [
    "- **Tugas 4**: Lakukan penggabungan DataFrame dan visualisasikan data dengan Pandas."
   ]
  },
  {
   "cell_type": "markdown",
   "id": "bf671ba3",
   "metadata": {
    "id": "bf671ba3"
   },
   "source": [
    "### 5. Menggabungkan PySpark dan Pandas\n",
    "- **Latihan 4: Mengonversi DataFrame antara PySpark dan Pandas**\n",
    "  Praktik untuk convert DataFrame dari PySpark ke Pandas dan sebaliknya:\n"
   ]
  },
  {
   "cell_type": "markdown",
   "id": "2cba4e5c",
   "metadata": {
    "id": "2cba4e5c"
   },
   "source": [
    "- **Tugas 5**: Gunakan metode ini untuk menggabungkan data yang Anda buat di PySpark dengan data dari Pandas, kemudian lakukan analisis sederhana seperti menghitung rata-rata usia."
   ]
  },
  {
   "cell_type": "code",
   "execution_count": 20,
   "id": "1e4ce2e9-4339-432e-b4cf-03f5ed184230",
   "metadata": {
    "id": "337e123f"
   },
   "outputs": [
    {
     "name": "stdout",
     "output_type": "stream",
     "text": [
      "DataFrame Gabungan (PySpark dan Pandas):\n",
      "      Nama  Usia   Pekerjaan             Hobi  Gender\n",
      "0      Ali    34         PNS           Renang    Pria\n",
      "1     Budi    23       Atlit             Lari    Pria\n",
      "2    Citra    29        Guru           Hiking  Wanita\n",
      "3     Dina    45  Freelancer         Berkebun  Wanita\n",
      "4    Enril    23     Aktivis  Public Speaking    Pria\n",
      "5  Faruzan    33   Pengacara          Membaca  Wanita\n",
      "\n",
      "Rata-rata Usia: 31.166666666666668\n"
     ]
    }
   ],
   "source": [
    "import findspark\n",
    "findspark.init()\n",
    "from pyspark.sql import SparkSession\n",
    "import pandas as pd\n",
    "\n",
    "# Memulai Spark session\n",
    "spark = SparkSession.builder.appName(\"BigDataPractice\").getOrCreate()\n",
    "\n",
    "# Data PySpark\n",
    "data_spark = [(\"Ali\", 34, \"PNS\", \"Renang\", \"Pria\"), \n",
    "              (\"Budi\", 23, \"Atlit\", \"Lari\", \"Pria\"), \n",
    "              (\"Citra\", 29, \"Guru\", \"Hiking\", \"Wanita\"), \n",
    "              (\"Dina\", 45, \"Freelancer\", \"Berkebun\", \"Wanita\")]\n",
    "columns = [\"Nama\", \"Usia\", \"Pekerjaan\", \"Hobi\", \"Gender\"]\n",
    "df_spark = spark.createDataFrame(data_spark, schema=columns)\n",
    "\n",
    "# Data Pandas\n",
    "data_pandas = {\n",
    "    \"Nama\": [\"Enril\", \"Faruzan\"],\n",
    "    \"Usia\": [23, 33],\n",
    "    \"Pekerjaan\": [\"Aktivis\", \"Pengacara\"],\n",
    "    \"Hobi\": [\"Public Speaking\", \"Membaca\"],\n",
    "    \"Gender\": [\"Pria\", \"Wanita\"]\n",
    "}\n",
    "df_pandas = pd.DataFrame(data_pandas)\n",
    "\n",
    "# Menggabungkan Data dari PySpark dan Pandas\n",
    "df_spark_from_pandas = spark.createDataFrame(df_pandas)\n",
    "df_combined = df_spark.union(df_spark_from_pandas)\n",
    "\n",
    "# Mengonversi DataFrame PySpark ke Pandas untuk Analisis Lebih Lanjut\n",
    "df_combined_pandas = df_combined.toPandas()\n",
    "\n",
    "# Analisis: Menghitung Rata-rata Usia\n",
    "average_age = df_combined_pandas[\"Usia\"].mean()\n",
    "\n",
    "print(\"DataFrame Gabungan (PySpark dan Pandas):\")\n",
    "print(df_combined_pandas)\n",
    "\n",
    "print(f\"\\nRata-rata Usia: {average_age}\")\n"
   ]
  },
  {
   "cell_type": "markdown",
   "id": "43ee1a51-cf41-4571-bbc4-096bff5da32c",
   "metadata": {
    "id": "337e123f"
   },
   "source": [
    "\r\n",
    "1. **Inisialisasi Spark**:  \r\n",
    "   `findspark.init()` - Menginisialisasi Spark.  \r\n",
    "   `SparkSession.builder.appName(\"BigDataPractice\").getOrCreate()` - Membuat sesi Spark dengan nama aplikasi \"BigDataPractice\".\r\n",
    "\r\n",
    "2. **Membuat DataFrame PySpark**:  \r\n",
    "   `data_spark` dan `columns` - Data dan kolom untuk DataFrame PySpark.  \r\n",
    "   `df_spark = spark.createDataFrame(data_spark, schema=columns)` - Membuat DataFrame PySpark.\r\n",
    "\r\n",
    "3. **Membuat DataFrame Pandas**:  \r\n",
    "   `data_pandas` - Data untuk DataFrame Pandas.  \r\n",
    "   `df_pandas = pd.DataFrame(data_pandas)` - Membuat DataFrame Pandas.\r\n",
    "\r\n",
    "4. **Mengonversi DataFrame dari Pandas ke PySpark**:  \r\n",
    "   `df_spark_from_pandas = spark.createDataFrame(df_pandas)` - Mengonversi DataFrame Pandas ke DataFrame PySpark.  \r\n",
    "   `df_combined = df_spark.union(df_spark_from_pandas)` - Menggabungkan DataFrame PySpark dari data PySpark dan Pandas.\r\n",
    "\r\n",
    "5. **Mengonversi DataFrame PySpark ke Pandas**:  \r\n",
    "   `df_combined_pandas = df_combined.toPandas()` - Mengonversi DataFrame PySpark yang digabungkan ke DataFrame Pandas untuk analisis lebih lanjut.\r\n",
    "\r\n",
    "6. **Analisis Data**:  \r\n",
    "   `average_age = df_combined_pandas[\"Usia\"].mean()` - Menghitung rata-rata usia.\r\n",
    "\r\n",
    "7. **Menampilkan Hasil**:  \r\n",
    "   `print(df_combined_pandas)` - Menampilkan DataFrame gabungan.  \r\n",
    "   `print(f\"\\nRata-rata Usia: {average_age}\")` - Menampilkan rata-rata usia."
   ]
  },
  {
   "cell_type": "markdown",
   "id": "afdba6be",
   "metadata": {
    "id": "afdba6be"
   },
   "source": [
    "### 6. Konversi Data antara PySpark dan Pandas"
   ]
  },
  {
   "cell_type": "markdown",
   "id": "65adbe71",
   "metadata": {
    "id": "65adbe71"
   },
   "source": [
    "- **Tugas 6**: Gabungkan data dari PySpark dan Pandas, lalu lakukan operasi statistik seperti menghitung nilai maksimum usia."
   ]
  },
  {
   "cell_type": "code",
   "execution_count": 21,
   "id": "716600bc-7734-4d3e-8f52-8473281426f0",
   "metadata": {
    "id": "f863defc"
   },
   "outputs": [
    {
     "name": "stdout",
     "output_type": "stream",
     "text": [
      "DataFrame dari PySpark ke Pandas:\n",
      "    Nama  Usia   Pekerjaan      Hobi  Gender\n",
      "0    Ali    34         PNS    Renang    Pria\n",
      "1   Budi    23       Atlit      Lari    Pria\n",
      "2  Citra    29        Guru    Hiking  Wanita\n",
      "3   Dina    45  Freelancer  Berkebun  Wanita\n",
      "\n",
      "DataFrame dari Pandas ke PySpark:\n",
      "+-------+----+---------+---------------+------+\n",
      "|   Nama|Usia|Pekerjaan|           Hobi|Gender|\n",
      "+-------+----+---------+---------------+------+\n",
      "|  Enril|  23|  Aktivis|Public Speaking|  Pria|\n",
      "|Faruzan|  33|Pengacara|        Membaca|Wanita|\n",
      "+-------+----+---------+---------------+------+\n",
      "\n",
      "\n",
      "Nilai maksimum usia dari DataFrame gabungan: 45\n"
     ]
    }
   ],
   "source": [
    "import findspark\n",
    "findspark.init()\n",
    "from pyspark.sql import SparkSession\n",
    "import pandas as pd\n",
    "\n",
    "# Memulai Spark session\n",
    "spark = SparkSession.builder.appName(\"BigDataPractice\").getOrCreate()\n",
    "\n",
    "# Data PySpark\n",
    "data_spark = [(\"Ali\", 34, \"PNS\", \"Renang\", \"Pria\"), \n",
    "              (\"Budi\", 23, \"Atlit\", \"Lari\", \"Pria\"), \n",
    "              (\"Citra\", 29, \"Guru\", \"Hiking\", \"Wanita\"), \n",
    "              (\"Dina\", 45, \"Freelancer\", \"Berkebun\", \"Wanita\")]\n",
    "columns = [\"Nama\", \"Usia\", \"Pekerjaan\", \"Hobi\", \"Gender\"]\n",
    "df_spark = spark.createDataFrame(data_spark, schema=columns)\n",
    "\n",
    "# Data Pandas\n",
    "data_pandas = {\n",
    "    \"Nama\": [\"Enril\", \"Faruzan\"],\n",
    "    \"Usia\": [23, 33],\n",
    "    \"Pekerjaan\": [\"Aktivis\", \"Pengacara\"],\n",
    "    \"Hobi\": [\"Public Speaking\", \"Membaca\"],\n",
    "    \"Gender\": [\"Pria\", \"Wanita\"]\n",
    "}\n",
    "df_pandas = pd.DataFrame(data_pandas)\n",
    "\n",
    "# Mengonversi DataFrame dari PySpark ke Pandas\n",
    "df_pandas_from_spark = df_spark.toPandas()\n",
    "\n",
    "# Mengonversi DataFrame dari Pandas ke PySpark\n",
    "df_spark_from_pandas = spark.createDataFrame(df_pandas)\n",
    "\n",
    "# Menampilkan DataFrame hasil konversi\n",
    "print(\"DataFrame dari PySpark ke Pandas:\")\n",
    "print(df_pandas_from_spark)\n",
    "\n",
    "print(\"\\nDataFrame dari Pandas ke PySpark:\")\n",
    "df_spark_from_pandas.show()\n",
    "\n",
    "# Menggabungkan Data dari PySpark dan Pandas\n",
    "df_combined = df_spark.union(df_spark_from_pandas)\n",
    "\n",
    "# Melakukan operasi statistik: Menghitung nilai maksimum usia\n",
    "max_age = df_combined.agg({\"Usia\": \"max\"}).collect()[0][0]\n",
    "\n",
    "print(f\"\\nNilai maksimum usia dari DataFrame gabungan: {max_age}\")\n",
    "\n"
   ]
  },
  {
   "cell_type": "markdown",
   "id": "20541a03-9e6c-41fc-b3df-b6e2ebf599f9",
   "metadata": {},
   "source": [
    "1. **Inisialisasi Spark**:\n",
    "   - `findspark.init()` - Menginisialisasi Spark.\n",
    "   - `SparkSession.builder.appName(\"BigDataPractice\").getOrCreate()` - Membuat sesi Spark dengan nama aplikasi \"BigDataPractice\".\n",
    "\n",
    "2. **Membuat DataFrame PySpark**:\n",
    "   - `data_spark` dan `columns` - Data dan kolom untuk DataFrame PySpark.\n",
    "   - `df_spark = spark.createDataFrame(data_spark, schema=columns)` - Membuat DataFrame PySpark.\n",
    "\n",
    "3. **Membuat DataFrame Pandas**:\n",
    "   - `data_pandas` - Data untuk DataFrame Pandas.\n",
    "   - `df_pandas = pd.DataFrame(data_pandas)` - Membuat DataFrame Pandas.\n",
    "\n",
    "4. **Mengonversi DataFrame dari PySpark ke Pandas**:\n",
    "   - `df_pandas_from_spark = df_spark.toPandas()` - Mengonversi DataFrame PySpark ke DataFrame Pandas.\n",
    "\n",
    "5. **Mengonversi DataFrame dari Pandas ke PySpark**:\n",
    "   - `df_spark_from_pandas = spark.createDataFrame(df_pandas)` - Mengonversi DataFrame Pandas ke DataFrame PySpark.\n",
    "\n",
    "6. **Menampilkan DataFrame Hasil Konversi**:\n",
    "   - `print(df_pandas_from_spark)` - Menampilkan DataFrame Pandas hasil konversi dari PySpark.\n",
    "   - `df_spark_from_pandas.show()` - Menampilkan DataFrame PySpark hasil konversi dari Pandas.\n",
    "\n",
    "7. **Menggabungkan DataFrame**:\n",
    "   - `df_combined = df_spark.union(df_spark_from_pandas)` - Menggabungkan DataFrame PySpark dari data PySpark dan data yang dikonversi dari Pandas.\n",
    "\n",
    "8. **Operasi Statistik**:\n",
    "   - `max_age = df_combined.agg({\"Usia\": \"max\"}).collect()[0][0]` - Menghitung nilai maksimum usia dari DataFrame gabungan.\n",
    "\n",
    "9. **Menampilkan Hasil**:\n",
    "   - `print(f\"\\nNilai maksimum usia dari DataFrame gabungan: {max_age}\")` - Menampilkan nilai maksimum usia dari DataFrame gabungan.\n",
    "\n",
    "Ini menunjukkan integrasi antara PySpark dan Pandas, serta bagaimana mengonversi, menggabungkan, dan melakukan analisis statistik pada data."
   ]
  }
 ],
 "metadata": {
  "colab": {
   "provenance": []
  },
  "kernelspec": {
   "display_name": "Python 3 (ipykernel)",
   "language": "python",
   "name": "python3"
  },
  "language_info": {
   "codemirror_mode": {
    "name": "ipython",
    "version": 3
   },
   "file_extension": ".py",
   "mimetype": "text/x-python",
   "name": "python",
   "nbconvert_exporter": "python",
   "pygments_lexer": "ipython3",
   "version": "3.11.9"
  }
 },
 "nbformat": 4,
 "nbformat_minor": 5
}
