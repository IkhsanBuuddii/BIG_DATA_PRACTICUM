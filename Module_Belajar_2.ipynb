{
  "nbformat": 4,
  "nbformat_minor": 0,
  "metadata": {
    "colab": {
      "provenance": []
    },
    "kernelspec": {
      "name": "python3",
      "display_name": "Python 3"
    },
    "language_info": {
      "name": "python"
    }
  },
  "cells": [
    {
      "cell_type": "code",
      "source": [
        "!pip install pyspark pandas"
      ],
      "metadata": {
        "colab": {
          "base_uri": "https://localhost:8080/"
        },
        "id": "v9GsKkCwItZi",
        "outputId": "7dc4d7b7-e96d-4248-e24a-a3336d58f689"
      },
      "execution_count": 1,
      "outputs": [
        {
          "output_type": "stream",
          "name": "stdout",
          "text": [
            "Collecting pyspark\n",
            "  Downloading pyspark-3.5.3.tar.gz (317.3 MB)\n",
            "\u001b[2K     \u001b[90m━━━━━━━━━━━━━━━━━━━━━━━━━━━━━━━━━━━━━━━━\u001b[0m \u001b[32m317.3/317.3 MB\u001b[0m \u001b[31m4.3 MB/s\u001b[0m eta \u001b[36m0:00:00\u001b[0m\n",
            "\u001b[?25h  Preparing metadata (setup.py) ... \u001b[?25l\u001b[?25hdone\n",
            "Requirement already satisfied: pandas in /usr/local/lib/python3.10/dist-packages (2.2.2)\n",
            "Requirement already satisfied: py4j==0.10.9.7 in /usr/local/lib/python3.10/dist-packages (from pyspark) (0.10.9.7)\n",
            "Requirement already satisfied: numpy>=1.22.4 in /usr/local/lib/python3.10/dist-packages (from pandas) (1.26.4)\n",
            "Requirement already satisfied: python-dateutil>=2.8.2 in /usr/local/lib/python3.10/dist-packages (from pandas) (2.8.2)\n",
            "Requirement already satisfied: pytz>=2020.1 in /usr/local/lib/python3.10/dist-packages (from pandas) (2024.2)\n",
            "Requirement already satisfied: tzdata>=2022.7 in /usr/local/lib/python3.10/dist-packages (from pandas) (2024.2)\n",
            "Requirement already satisfied: six>=1.5 in /usr/local/lib/python3.10/dist-packages (from python-dateutil>=2.8.2->pandas) (1.16.0)\n",
            "Building wheels for collected packages: pyspark\n",
            "  Building wheel for pyspark (setup.py) ... \u001b[?25l\u001b[?25hdone\n",
            "  Created wheel for pyspark: filename=pyspark-3.5.3-py2.py3-none-any.whl size=317840625 sha256=a2c8657a69b8c8989c37495a82e548ca58532c970fc5a3e6fbe03b46a2982c0e\n",
            "  Stored in directory: /root/.cache/pip/wheels/1b/3a/92/28b93e2fbfdbb07509ca4d6f50c5e407f48dce4ddbda69a4ab\n",
            "Successfully built pyspark\n",
            "Installing collected packages: pyspark\n",
            "Successfully installed pyspark-3.5.3\n"
          ]
        }
      ]
    },
    {
      "cell_type": "code",
      "source": [
        "import pandas as pd\n",
        "\n",
        "# Data penjualan\n",
        "data = {\n",
        "    'ProductID': ['P001', 'P002', 'P003', 'P004', 'P005', 'P006'],\n",
        "    'ProductName': ['Product A', 'Product B', 'Product C', 'Product D', 'Product E', 'Product F'],\n",
        "    'Category': ['Electronics', 'Electronics', 'Clothing', 'Clothing', 'Kitchen', 'Kitchen'],\n",
        "    'Quantity': [10, 30, 20, 15, 25, 5],\n",
        "    'Price': [200, 150, 100, 120, 90, 300],\n",
        "    'Date': ['2022-01-10', '2022-02-10', '2022-03-10', '2022-02-12', '2022-04-13', '2022-01-14']\n",
        "}\n",
        "\n",
        "# Membuat DataFrame\n",
        "df = pd.DataFrame(data)\n",
        "\n",
        "# Menampilkan tabel pertama dengan kolom Date masih utuh\n",
        "print(\"Tabel dengan kolom 'Date' masih utuh:\")\n",
        "print(df)\n",
        "\n",
        "# Mengubah kolom 'Date' menjadi tipe datetime\n",
        "df['Date'] = pd.to_datetime(df['Date'])\n",
        "\n",
        "# Memisahkan tanggal menjadi kolom Hari, Bulan, dan Tahun\n",
        "df['Hari'] = df['Date'].dt.day\n",
        "df['Bulan'] = df['Date'].dt.month\n",
        "df['Tahun'] = df['Date'].dt.year\n",
        "\n",
        "# Menghapus kolom 'Date'\n",
        "df_tanpa_date = df.drop(columns=['Date'])\n",
        "\n",
        "# Menampilkan tabel kedua dengan kolom 'Date' sudah dibagi menjadi Hari, Bulan, Tahun\n",
        "print(\"\\nTabel dengan kolom 'Date' dibagi menjadi 'Hari', 'Bulan', dan 'Tahun' serta kolom 'Date' dihapus:\")\n",
        "print(df_tanpa_date)\n"
      ],
      "metadata": {
        "colab": {
          "base_uri": "https://localhost:8080/"
        },
        "id": "iL7KW1NgMwlm",
        "outputId": "e9f98a11-0be9-48ec-d855-3a3cda2772f6"
      },
      "execution_count": 8,
      "outputs": [
        {
          "output_type": "stream",
          "name": "stdout",
          "text": [
            "Tabel dengan kolom 'Date' masih utuh:\n",
            "  ProductID ProductName     Category  Quantity  Price        Date\n",
            "0      P001   Product A  Electronics        10    200  2022-01-10\n",
            "1      P002   Product B  Electronics        30    150  2022-02-10\n",
            "2      P003   Product C     Clothing        20    100  2022-03-10\n",
            "3      P004   Product D     Clothing        15    120  2022-02-12\n",
            "4      P005   Product E      Kitchen        25     90  2022-04-13\n",
            "5      P006   Product F      Kitchen         5    300  2022-01-14\n",
            "\n",
            "Tabel dengan kolom 'Date' dibagi menjadi 'Hari', 'Bulan', dan 'Tahun' serta kolom 'Date' dihapus:\n",
            "  ProductID ProductName     Category  Quantity  Price  Hari  Bulan  Tahun\n",
            "0      P001   Product A  Electronics        10    200    10      1   2022\n",
            "1      P002   Product B  Electronics        30    150    10      2   2022\n",
            "2      P003   Product C     Clothing        20    100    10      3   2022\n",
            "3      P004   Product D     Clothing        15    120    12      2   2022\n",
            "4      P005   Product E      Kitchen        25     90    13      4   2022\n",
            "5      P006   Product F      Kitchen         5    300    14      1   2022\n"
          ]
        }
      ]
    },
    {
      "cell_type": "code",
      "source": [
        "# Convert 'Date' to datetime\n",
        "df['Date'] = pd.to_datetime(df['Date'])\n",
        "\n",
        "# Create a 'Month' column\n",
        "df['Month'] = df['Date'].dt.to_period('M')\n",
        "\n",
        "# Calculate total revenue (Quantity * Price)\n",
        "df['Revenue'] = df['Quantity'] * df['Price']\n",
        "\n",
        "# Group by Category and Month, and sum the revenue\n",
        "total_revenue = df.groupby(['Category', 'Month'])['Revenue'].sum().reset_index()\n",
        "print(total_revenue)\n"
      ],
      "metadata": {
        "colab": {
          "base_uri": "https://localhost:8080/"
        },
        "id": "2DnQaobnIrvg",
        "outputId": "b42f63ca-124c-4b7e-d77c-83c3392c06f3"
      },
      "execution_count": 7,
      "outputs": [
        {
          "output_type": "stream",
          "name": "stdout",
          "text": [
            "      Category    Month  Revenue\n",
            "0     Clothing  2022-02     1800\n",
            "1     Clothing  2022-03     2000\n",
            "2  Electronics  2022-01     2000\n",
            "3  Electronics  2022-02     4500\n",
            "4      Kitchen  2022-01     1500\n",
            "5      Kitchen  2022-04     2250\n"
          ]
        }
      ]
    },
    {
      "cell_type": "code",
      "source": [
        "# Find the product with the lowest price in each category\n",
        "lowest_priced_products = df.loc[df.groupby('Category')['Price'].idxmin()]\n",
        "print(lowest_priced_products[['Category', 'ProductName', 'Price']])\n"
      ],
      "metadata": {
        "colab": {
          "base_uri": "https://localhost:8080/"
        },
        "id": "FSR56QrWJYVt",
        "outputId": "79c94dc3-b7e5-417c-cfce-4732e5ac42e0"
      },
      "execution_count": 3,
      "outputs": [
        {
          "output_type": "stream",
          "name": "stdout",
          "text": [
            "      Category ProductName  Price\n",
            "2     Clothing   Product C    100\n",
            "1  Electronics   Product B    150\n",
            "4      Kitchen   Product E     90\n"
          ]
        }
      ]
    },
    {
      "cell_type": "code",
      "source": [
        "# Group by Category and Month to find total quantity sold\n",
        "sales_trend = df.groupby(['Category', 'Month'])['Quantity'].sum().reset_index()\n",
        "print(sales_trend)\n"
      ],
      "metadata": {
        "colab": {
          "base_uri": "https://localhost:8080/"
        },
        "id": "QzwWhfjxJi0i",
        "outputId": "0bf4ec24-19e9-4e4c-dc50-2141b88899af"
      },
      "execution_count": 4,
      "outputs": [
        {
          "output_type": "stream",
          "name": "stdout",
          "text": [
            "      Category    Month  Quantity\n",
            "0     Clothing  2022-02        15\n",
            "1     Clothing  2022-03        20\n",
            "2  Electronics  2022-01        10\n",
            "3  Electronics  2022-02        30\n",
            "4      Kitchen  2022-01         5\n",
            "5      Kitchen  2022-04        25\n"
          ]
        }
      ]
    },
    {
      "cell_type": "code",
      "source": [
        "import matplotlib.pyplot as plt\n",
        "import seaborn as sns\n",
        "\n",
        "# Plot total revenue per category\n",
        "plt.figure(figsize=(10, 6))\n",
        "sns.barplot(data=total_revenue, x='Month', y='Revenue', hue='Category')\n",
        "plt.title('Total Revenue per Category per Month')\n",
        "plt.xlabel('Month')\n",
        "plt.ylabel('Revenue')\n",
        "plt.show()\n"
      ],
      "metadata": {
        "colab": {
          "base_uri": "https://localhost:8080/",
          "height": 672
        },
        "id": "F3blTBi2JsRL",
        "outputId": "6b432326-bc24-4b65-dee4-75f21673a7aa"
      },
      "execution_count": 5,
      "outputs": [
        {
          "output_type": "stream",
          "name": "stderr",
          "text": [
            "/usr/local/lib/python3.10/dist-packages/seaborn/_base.py:949: FutureWarning: When grouping with a length-1 list-like, you will need to pass a length-1 tuple to get_group in a future version of pandas. Pass `(name,)` instead of `name` to silence this warning.\n",
            "  data_subset = grouped_data.get_group(pd_key)\n",
            "/usr/local/lib/python3.10/dist-packages/seaborn/_base.py:949: FutureWarning: When grouping with a length-1 list-like, you will need to pass a length-1 tuple to get_group in a future version of pandas. Pass `(name,)` instead of `name` to silence this warning.\n",
            "  data_subset = grouped_data.get_group(pd_key)\n",
            "/usr/local/lib/python3.10/dist-packages/seaborn/_base.py:949: FutureWarning: When grouping with a length-1 list-like, you will need to pass a length-1 tuple to get_group in a future version of pandas. Pass `(name,)` instead of `name` to silence this warning.\n",
            "  data_subset = grouped_data.get_group(pd_key)\n"
          ]
        },
        {
          "output_type": "display_data",
          "data": {
            "text/plain": [
              "<Figure size 1000x600 with 1 Axes>"
            ],
            "image/png": "[encoded data removed]"
          },
          "metadata": {}
        }
      ]
    }
  ]
}