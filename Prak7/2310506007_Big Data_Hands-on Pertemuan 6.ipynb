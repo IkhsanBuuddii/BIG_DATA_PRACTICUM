{
  "cells": [
    {
      "cell_type": "markdown",
      "id": "f89f7684",
      "metadata": {
        "id": "f89f7684"
      },
      "source": [
        "# Hands-On Pertemuan 6: Data Processing dengan Apache Spark"
      ]
    },
    {
      "cell_type": "markdown",
      "id": "e30ce9d1",
      "metadata": {
        "id": "e30ce9d1"
      },
      "source": [
        "## Tujuan:\n",
        "- Memahami dan mempraktikkan data processing menggunakan Apache Spark.\n",
        "- Menggunakan Spark untuk operasi data yang efisien pada dataset besar.\n",
        "- Menerapkan teknik canggih dalam Spark untuk mengatasi kasus penggunaan nyata."
      ]
    },
    {
      "cell_type": "markdown",
      "id": "cd5c2f90",
      "metadata": {
        "id": "cd5c2f90"
      },
      "source": [
        "### 1. Pengenalan Spark DataFrames\n",
        "Spark DataFrame menyediakan struktur data yang optimal dengan operasi yang dioptimalkan untuk pemrosesan data besar, yang sangat mirip dengan DataFrame di Pandas atau di RDBMS.\n",
        "\n",
        "- **Tugas 1**: Buat DataFrame sederhana di Spark dan eksplorasi beberapa fungsi dasar yang tersedia."
      ]
    },
    {
      "cell_type": "code",
      "source": [
        "pip install pyspark"
      ],
      "metadata": {
        "colab": {
          "base_uri": "https://localhost:8080/"
        },
        "id": "Us5mrVMe3618",
        "outputId": "4f0e6192-0386-4b3c-ddb2-b7e065c6fabd"
      },
      "id": "Us5mrVMe3618",
      "execution_count": 11,
      "outputs": [
        {
          "output_type": "stream",
          "name": "stdout",
          "text": [
            "Requirement already satisfied: pyspark in /usr/local/lib/python3.10/dist-packages (3.5.3)\n",
            "Requirement already satisfied: py4j==0.10.9.7 in /usr/local/lib/python3.10/dist-packages (from pyspark) (0.10.9.7)\n"
          ]
        }
      ]
    },
    {
      "cell_type": "code",
      "execution_count": 12,
      "id": "986d01c7",
      "metadata": {
        "colab": {
          "base_uri": "https://localhost:8080/"
        },
        "id": "986d01c7",
        "outputId": "ece662c4-c6c5-4ec6-f497-807db323bd92"
      },
      "outputs": [
        {
          "output_type": "stream",
          "name": "stdout",
          "text": [
            "+------------+----------+------+\n",
            "|EmployeeName|Department|Salary|\n",
            "+------------+----------+------+\n",
            "|       James|     Sales|  3000|\n",
            "|     Michael|     Sales|  4600|\n",
            "|      Robert|     Sales|  4100|\n",
            "|       Maria|   Finance|  3000|\n",
            "+------------+----------+------+\n",
            "\n"
          ]
        }
      ],
      "source": [
        "# Contoh membuat DataFrame sederhana dan operasi dasar\n",
        "from pyspark.sql import SparkSession\n",
        "spark = SparkSession.builder.appName('HandsOnPertemuan6').getOrCreate()\n",
        "\n",
        "data = [('James', 'Sales', 3000),\n",
        "        ('Michael', 'Sales', 4600),\n",
        "        ('Robert', 'Sales', 4100),\n",
        "        ('Maria', 'Finance', 3000)]\n",
        "columns = ['EmployeeName', 'Department', 'Salary']\n",
        "\n",
        "df = spark.createDataFrame(data, schema=columns)\n",
        "df.show()"
      ]
    },
    {
      "cell_type": "markdown",
      "id": "fca66b73",
      "metadata": {
        "id": "fca66b73"
      },
      "source": [
        "### 2. Transformasi Dasar dengan DataFrames\n",
        "Pemrosesan data meliputi transformasi seperti filtering, selections, dan aggregations. Spark menyediakan cara efisien untuk melaksanakan operasi ini.\n",
        "\n",
        "- **Tugas 2**: Gunakan operasi filter, select, groupBy untuk mengekstrak informasi dari data, serta lakukan agregasi data untuk mendapatkan insight tentang dataset menggunakan perintah seperti mean, max, sum."
      ]
    },
    {
      "cell_type": "code",
      "execution_count": 3,
      "id": "58232678",
      "metadata": {
        "colab": {
          "base_uri": "https://localhost:8080/"
        },
        "id": "58232678",
        "outputId": "c37a1a3c-90a4-4d0f-9d8f-be3405a59609"
      },
      "outputs": [
        {
          "output_type": "stream",
          "name": "stdout",
          "text": [
            "+------------+------+\n",
            "|EmployeeName|Salary|\n",
            "+------------+------+\n",
            "|       James|  3000|\n",
            "|     Michael|  4600|\n",
            "|      Robert|  4100|\n",
            "|       Maria|  3000|\n",
            "+------------+------+\n",
            "\n",
            "+------------+----------+------+\n",
            "|EmployeeName|Department|Salary|\n",
            "+------------+----------+------+\n",
            "|     Michael|     Sales|  4600|\n",
            "|      Robert|     Sales|  4100|\n",
            "+------------+----------+------+\n",
            "\n",
            "+----------+-----------+\n",
            "|Department|avg(Salary)|\n",
            "+----------+-----------+\n",
            "|     Sales|     3900.0|\n",
            "|   Finance|     3000.0|\n",
            "+----------+-----------+\n",
            "\n"
          ]
        }
      ],
      "source": [
        "# Contoh operasi transformasi DataFrame\n",
        "df.select('EmployeeName', 'Salary').show()\n",
        "df.filter(df['Salary'] > 3000).show()\n",
        "df.groupBy('Department').avg('Salary').show()"
      ]
    },
    {
      "cell_type": "markdown",
      "id": "89763d36",
      "metadata": {
        "id": "89763d36"
      },
      "source": [
        "### 3. Bekerja dengan Tipe Data Kompleks\n",
        "Spark mendukung tipe data yang kompleks seperti maps, arrays, dan structs yang memungkinkan operasi yang lebih kompleks pada dataset yang kompleks.\n",
        "\n",
        "- **Tugas 3**: Eksplorasi bagaimana mengolah tipe data kompleks dalam Spark DataFrames."
      ]
    },
    {
      "cell_type": "code",
      "execution_count": 6,
      "id": "14701d79",
      "metadata": {
        "colab": {
          "base_uri": "https://localhost:8080/"
        },
        "id": "14701d79",
        "outputId": "1482fe51-313e-40e5-ef52-4ca7e0566507"
      },
      "outputs": [
        {
          "output_type": "stream",
          "name": "stdout",
          "text": [
            "Tabel Salary Bonus\n",
            "+------------+----------+------+-----------+\n",
            "|EmployeeName|Department|Salary|SalaryBonus|\n",
            "+------------+----------+------+-----------+\n",
            "|       James|     Sales|  3000|      300.0|\n",
            "|     Michael|     Sales|  4600|      460.0|\n",
            "|      Robert|     Sales|  4100|      410.0|\n",
            "|       Maria|   Finance|  3000|      300.0|\n",
            "+------------+----------+------+-----------+\n",
            "\n",
            "Tabel Total Compensation\n",
            "+------------+----------+------+-----------+-----------------+\n",
            "|EmployeeName|Department|Salary|SalaryBonus|TotalCompensation|\n",
            "+------------+----------+------+-----------+-----------------+\n",
            "|       James|     Sales|  3000|      300.0|           3300.0|\n",
            "|     Michael|     Sales|  4600|      460.0|           5060.0|\n",
            "|      Robert|     Sales|  4100|      410.0|           4510.0|\n",
            "|       Maria|   Finance|  3000|      300.0|           3300.0|\n",
            "+------------+----------+------+-----------+-----------------+\n",
            "\n"
          ]
        }
      ],
      "source": [
        "# Contoh manipulasi tipe data kompleks\n",
        "print(\"Tabel Salary Bonus\")\n",
        "df = df.withColumn('SalaryBonus', df['Salary'] * 0.1)\n",
        "df.show()\n",
        "print(\"Tabel Total Compensation\")\n",
        "df.withColumn('TotalCompensation', df['Salary'] + df['SalaryBonus']).show()"
      ]
    },
    {
      "cell_type": "markdown",
      "id": "5b3b58dd",
      "metadata": {
        "id": "5b3b58dd"
      },
      "source": [
        "### 4. Operasi Data Lanjutan\n",
        "Menggunakan Spark untuk operasi lanjutan seperti window functions, user-defined functions (UDFs), dan mengoptimalkan query.\n",
        "\n",
        "- **Tugas 4**: Implementasikan window function untuk menghitung running totals atau rangkings."
      ]
    },
    {
      "cell_type": "code",
      "execution_count": 7,
      "id": "035312eb",
      "metadata": {
        "colab": {
          "base_uri": "https://localhost:8080/"
        },
        "id": "035312eb",
        "outputId": "f1ddd027-cd47-427c-d2eb-ab85b6138184"
      },
      "outputs": [
        {
          "output_type": "stream",
          "name": "stdout",
          "text": [
            "+------------+----------+------+-----------+----+\n",
            "|EmployeeName|Department|Salary|SalaryBonus|Rank|\n",
            "+------------+----------+------+-----------+----+\n",
            "|       Maria|   Finance|  3000|      300.0|   1|\n",
            "|       James|     Sales|  3000|      300.0|   1|\n",
            "|      Robert|     Sales|  4100|      410.0|   2|\n",
            "|     Michael|     Sales|  4600|      460.0|   3|\n",
            "+------------+----------+------+-----------+----+\n",
            "\n"
          ]
        }
      ],
      "source": [
        "# Contoh menggunakan window functions\n",
        "from pyspark.sql.window import Window\n",
        "from pyspark.sql import functions as F\n",
        "\n",
        "windowSpec = Window.partitionBy('Department').orderBy('Salary')\n",
        "df.withColumn('Rank', F.rank().over(windowSpec)).show()"
      ]
    },
    {
      "cell_type": "markdown",
      "id": "f8a097ec",
      "metadata": {
        "id": "f8a097ec"
      },
      "source": [
        "### 5. Kesimpulan dan Eksplorasi Lebih Lanjut\n",
        "Review apa yang telah dipelajari tentang pemrosesan data menggunakan Spark dan eksplorasi teknik lebih lanjut untuk mengoptimalkan pemrosesan data Anda.\n",
        "- **Tugas 5**: Buat ringkasan dari semua operasi yang telah dilakukan dan bagaimana teknik ini dapat diterapkan pada proyek data Anda."
      ]
    },
    {
      "cell_type": "markdown",
      "source": [
        "# **Eksplorasi Lebih Lanjut**"
      ],
      "metadata": {
        "id": "hgUfzZWO9nIm"
      },
      "id": "hgUfzZWO9nIm"
    },
    {
      "cell_type": "code",
      "source": [
        "!pip install pyspark"
      ],
      "metadata": {
        "colab": {
          "base_uri": "https://localhost:8080/"
        },
        "id": "BmmByyIVJanp",
        "outputId": "ffdaa88a-f234-4422-a5bc-396f75179a32"
      },
      "id": "BmmByyIVJanp",
      "execution_count": 8,
      "outputs": [
        {
          "output_type": "stream",
          "name": "stdout",
          "text": [
            "Requirement already satisfied: pyspark in /usr/local/lib/python3.10/dist-packages (3.5.3)\n",
            "Requirement already satisfied: py4j==0.10.9.7 in /usr/local/lib/python3.10/dist-packages (from pyspark) (0.10.9.7)\n"
          ]
        }
      ]
    },
    {
      "cell_type": "markdown",
      "source": [
        "### Menghapus Duplikat dengan dropDuplicates"
      ],
      "metadata": {
        "id": "ja39LR7-Mov9"
      },
      "id": "ja39LR7-Mov9"
    },
    {
      "cell_type": "code",
      "source": [
        "from pyspark.sql import SparkSession, functions as F\n",
        "spark = SparkSession.builder.appName('Tugas Eksplorasi 6').getOrCreate()\n",
        "\n",
        "# Menambahkan beberapa data duplikat\n",
        "data_duplikat = [\n",
        "    ('Rina', 'Teknik Informatika', 5, 'Shonen', 3.5),\n",
        "    ('Rina', 'Teknik Informatika', 5, 'Shonen', 3.5)\n",
        "]\n",
        "columns_duplikat = ['Nama', 'Jurusan', 'JumlahGamePerMinggu', 'GenreAnimeFavorit', 'GPA']\n",
        "df_duplikat = spark.createDataFrame(data_duplikat, schema=columns_duplikat)\n",
        "\n",
        "# Menampilkan DataFrame dengan duplikat\n",
        "df_duplikat.show()\n"
      ],
      "metadata": {
        "colab": {
          "base_uri": "https://localhost:8080/"
        },
        "id": "FHjAY12I9mnO",
        "outputId": "68c49686-db73-4893-a3ce-6b3adb2f064b"
      },
      "id": "FHjAY12I9mnO",
      "execution_count": 27,
      "outputs": [
        {
          "output_type": "stream",
          "name": "stdout",
          "text": [
            "+----+------------------+-------------------+-----------------+---+\n",
            "|Nama|           Jurusan|JumlahGamePerMinggu|GenreAnimeFavorit|GPA|\n",
            "+----+------------------+-------------------+-----------------+---+\n",
            "|Rina|Teknik Informatika|                  5|           Shonen|3.5|\n",
            "|Rina|Teknik Informatika|                  5|           Shonen|3.5|\n",
            "+----+------------------+-------------------+-----------------+---+\n",
            "\n"
          ]
        }
      ]
    },
    {
      "cell_type": "code",
      "source": [
        "# Menghapus duplikat berdasarkan semua kolom\n",
        "df_duplikat_clean = df_duplikat.dropDuplicates()\n",
        "df_duplikat_clean.show()"
      ],
      "metadata": {
        "colab": {
          "base_uri": "https://localhost:8080/"
        },
        "id": "KZxxILXNGKb0",
        "outputId": "89cb9610-21d5-4833-e21c-6c88a7990f44"
      },
      "id": "KZxxILXNGKb0",
      "execution_count": 15,
      "outputs": [
        {
          "output_type": "stream",
          "name": "stdout",
          "text": [
            "+----+------------------+-------------------+-----------------+---+\n",
            "|Nama|           Jurusan|JumlahGamePerMinggu|GenreAnimeFavorit|GPA|\n",
            "+----+------------------+-------------------+-----------------+---+\n",
            "|Rina|Teknik Informatika|                  5|           Shonen|3.5|\n",
            "+----+------------------+-------------------+-----------------+---+\n",
            "\n"
          ]
        }
      ]
    },
    {
      "cell_type": "markdown",
      "source": [
        "### Menangani Nilai Null dengan dropna dan fillna"
      ],
      "metadata": {
        "id": "v3OJsScmNC7U"
      },
      "id": "v3OJsScmNC7U"
    },
    {
      "cell_type": "code",
      "source": [
        "# Membuat DataFrame dengan nilai null\n",
        "data_null = [\n",
        "    ('Rina', 'Teknik Informatika', 5, 'Shonen', 3.5),\n",
        "    ('Budi', 'Ilmu Komputer', 7, 'Slice of Life', 3.7),\n",
        "    ('Tono', 'Sistem Informasi', None, 'Isekai', 3.2),\n",
        "    ('Susi', 'Teknik Elektro', 3, None, 3.8),\n",
        "    ('Rika', 'Teknik Informatika', 4, 'Shounen', 3.6),\n",
        "    ('Dewi', 'Ilmu Komputer', 6, 'Mecha', 3.9),\n",
        "    ('Andi', 'Sistem Informasi', 2, 'Shonen', None),\n",
        "    ('Lina', 'Teknik Elektro', 4, 'Isekai', 3.4)\n",
        "]\n",
        "columns_null = ['Nama', 'Jurusan', 'JumlahGamePerMinggu', 'GenreAnimeFavorit', 'GPA']\n",
        "df_null = spark.createDataFrame(data_null, schema=columns_null)\n",
        "\n",
        "# Menampilkan DataFrame dengan nilai null\n",
        "df_null.show()\n"
      ],
      "metadata": {
        "colab": {
          "base_uri": "https://localhost:8080/"
        },
        "id": "PANhp3-gGVJb",
        "outputId": "21421796-507f-42f2-d0db-63e4b88303f8"
      },
      "id": "PANhp3-gGVJb",
      "execution_count": 16,
      "outputs": [
        {
          "output_type": "stream",
          "name": "stdout",
          "text": [
            "+----+------------------+-------------------+-----------------+----+\n",
            "|Nama|           Jurusan|JumlahGamePerMinggu|GenreAnimeFavorit| GPA|\n",
            "+----+------------------+-------------------+-----------------+----+\n",
            "|Rina|Teknik Informatika|                  5|           Shonen| 3.5|\n",
            "|Budi|     Ilmu Komputer|                  7|    Slice of Life| 3.7|\n",
            "|Tono|  Sistem Informasi|               NULL|           Isekai| 3.2|\n",
            "|Susi|    Teknik Elektro|                  3|             NULL| 3.8|\n",
            "|Rika|Teknik Informatika|                  4|          Shounen| 3.6|\n",
            "|Dewi|     Ilmu Komputer|                  6|            Mecha| 3.9|\n",
            "|Andi|  Sistem Informasi|                  2|           Shonen|NULL|\n",
            "|Lina|    Teknik Elektro|                  4|           Isekai| 3.4|\n",
            "+----+------------------+-------------------+-----------------+----+\n",
            "\n"
          ]
        }
      ]
    },
    {
      "cell_type": "markdown",
      "source": [
        "Menghapus Baris dengan Nilai Null menggunakan dropn"
      ],
      "metadata": {
        "id": "H6zlCi3kNYzj"
      },
      "id": "H6zlCi3kNYzj"
    },
    {
      "cell_type": "code",
      "source": [
        "# Menghapus baris yang memiliki nilai null di kolom 'GPA'\n",
        "df_null_drop = df_null.dropna(subset=['GPA'])\n",
        "df_null_drop.show()"
      ],
      "metadata": {
        "colab": {
          "base_uri": "https://localhost:8080/"
        },
        "id": "6cipm81MGgaM",
        "outputId": "cdb79390-22d3-4b8c-bce5-f9c4b9bcee8d"
      },
      "id": "6cipm81MGgaM",
      "execution_count": 24,
      "outputs": [
        {
          "output_type": "stream",
          "name": "stdout",
          "text": [
            "+----+------------------+-------------------+-----------------+---+\n",
            "|Nama|           Jurusan|JumlahGamePerMinggu|GenreAnimeFavorit|GPA|\n",
            "+----+------------------+-------------------+-----------------+---+\n",
            "|Rina|Teknik Informatika|                  5|           Shonen|3.5|\n",
            "|Budi|     Ilmu Komputer|                  7|    Slice of Life|3.7|\n",
            "|Tono|  Sistem Informasi|               NULL|           Isekai|3.2|\n",
            "|Susi|    Teknik Elektro|                  3|             NULL|3.8|\n",
            "|Rika|Teknik Informatika|                  4|          Shounen|3.6|\n",
            "|Dewi|     Ilmu Komputer|                  6|            Mecha|3.9|\n",
            "|Lina|    Teknik Elektro|                  4|           Isekai|3.4|\n",
            "+----+------------------+-------------------+-----------------+---+\n",
            "\n"
          ]
        }
      ]
    },
    {
      "cell_type": "markdown",
      "source": [
        "Mengisi Nilai Null dengan Nilai Default menggunakan fillna"
      ],
      "metadata": {
        "id": "71xmf8zRNjBd"
      },
      "id": "71xmf8zRNjBd"
    },
    {
      "cell_type": "code",
      "source": [
        "# Mengisi nilai null di kolom 'GPA' dengan rata-rata GPA\n",
        "avg_gpa = df_null.select(F.avg('GPA')).first()[0] # Now F is defined and can be used\n",
        "df_null_filled = df_null.fillna({'GPA': avg_gpa})\n",
        "df_null_filled.show()"
      ],
      "metadata": {
        "colab": {
          "base_uri": "https://localhost:8080/"
        },
        "id": "e_h-J9ymGoVr",
        "outputId": "17d38fb9-687b-43c7-f123-916cd9c96a9d"
      },
      "id": "e_h-J9ymGoVr",
      "execution_count": 28,
      "outputs": [
        {
          "output_type": "stream",
          "name": "stdout",
          "text": [
            "+----+------------------+-------------------+-----------------+-----------------+\n",
            "|Nama|           Jurusan|JumlahGamePerMinggu|GenreAnimeFavorit|              GPA|\n",
            "+----+------------------+-------------------+-----------------+-----------------+\n",
            "|Rina|Teknik Informatika|                  5|           Shonen|              3.5|\n",
            "|Budi|     Ilmu Komputer|                  7|    Slice of Life|              3.7|\n",
            "|Tono|  Sistem Informasi|               NULL|           Isekai|              3.2|\n",
            "|Susi|    Teknik Elektro|                  3|             NULL|              3.8|\n",
            "|Rika|Teknik Informatika|                  4|          Shounen|              3.6|\n",
            "|Dewi|     Ilmu Komputer|                  6|            Mecha|              3.9|\n",
            "|Andi|  Sistem Informasi|                  2|           Shonen|3.585714285714286|\n",
            "|Lina|    Teknik Elektro|                  4|           Isekai|              3.4|\n",
            "+----+------------------+-------------------+-----------------+-----------------+\n",
            "\n"
          ]
        }
      ]
    },
    {
      "cell_type": "markdown",
      "source": [
        "### Menggunakan Fungsi String: concat, substring, dan upper"
      ],
      "metadata": {
        "id": "lZAdiNHxNszU"
      },
      "id": "lZAdiNHxNszU"
    },
    {
      "cell_type": "code",
      "source": [
        "from pyspark.sql.functions import concat, col, substring, upper\n",
        "\n",
        "# Menggabungkan nama dan jurusan menjadi satu kolom baru\n",
        "df_null_filled = df_null_filled.withColumn('Info', concat(col('Nama'), F.lit(' - '), col('Jurusan')))\n",
        "df_null_filled.show(truncate=False)"
      ],
      "metadata": {
        "colab": {
          "base_uri": "https://localhost:8080/"
        },
        "id": "-VarpdU4JLDx",
        "outputId": "b98cccc8-1b07-4157-9a0a-a636b3795e17"
      },
      "id": "-VarpdU4JLDx",
      "execution_count": 29,
      "outputs": [
        {
          "output_type": "stream",
          "name": "stdout",
          "text": [
            "+----+------------------+-------------------+-----------------+-----------------+-------------------------+\n",
            "|Nama|Jurusan           |JumlahGamePerMinggu|GenreAnimeFavorit|GPA              |Info                     |\n",
            "+----+------------------+-------------------+-----------------+-----------------+-------------------------+\n",
            "|Rina|Teknik Informatika|5                  |Shonen           |3.5              |Rina - Teknik Informatika|\n",
            "|Budi|Ilmu Komputer     |7                  |Slice of Life    |3.7              |Budi - Ilmu Komputer     |\n",
            "|Tono|Sistem Informasi  |NULL               |Isekai           |3.2              |Tono - Sistem Informasi  |\n",
            "|Susi|Teknik Elektro    |3                  |NULL             |3.8              |Susi - Teknik Elektro    |\n",
            "|Rika|Teknik Informatika|4                  |Shounen          |3.6              |Rika - Teknik Informatika|\n",
            "|Dewi|Ilmu Komputer     |6                  |Mecha            |3.9              |Dewi - Ilmu Komputer     |\n",
            "|Andi|Sistem Informasi  |2                  |Shonen           |3.585714285714286|Andi - Sistem Informasi  |\n",
            "|Lina|Teknik Elektro    |4                  |Isekai           |3.4              |Lina - Teknik Elektro    |\n",
            "+----+------------------+-------------------+-----------------+-----------------+-------------------------+\n",
            "\n"
          ]
        }
      ]
    },
    {
      "cell_type": "markdown",
      "source": [
        "Mengambil substring dari kolom 'GenreAnimeFavorit':"
      ],
      "metadata": {
        "id": "1Pv_pDuLOMws"
      },
      "id": "1Pv_pDuLOMws"
    },
    {
      "cell_type": "code",
      "source": [
        "# Mengambil 3 karakter pertama dari 'GenreAnimeFavorit'\n",
        "df_null_filled = df_null_filled.withColumn('GenrePrefShort', substring('GenreAnimeFavorit', 1, 3))\n",
        "df_null_filled.show()"
      ],
      "metadata": {
        "id": "Famtg2x_N_3c",
        "outputId": "7516dd57-a2fd-489f-c014-771fb088c4e7",
        "colab": {
          "base_uri": "https://localhost:8080/"
        }
      },
      "id": "Famtg2x_N_3c",
      "execution_count": 34,
      "outputs": [
        {
          "output_type": "stream",
          "name": "stdout",
          "text": [
            "+----+------------------+-------------------+-----------------+-----------------+--------------------+--------------+\n",
            "|Nama|           Jurusan|JumlahGamePerMinggu|GenreAnimeFavorit|              GPA|                Info|GenrePrefShort|\n",
            "+----+------------------+-------------------+-----------------+-----------------+--------------------+--------------+\n",
            "|Rina|Teknik Informatika|                  5|           Shonen|              3.5|Rina - Teknik Inf...|           Sho|\n",
            "|Budi|     Ilmu Komputer|                  7|    Slice of Life|              3.7|Budi - Ilmu Komputer|           Sli|\n",
            "|Tono|  Sistem Informasi|               NULL|           Isekai|              3.2|Tono - Sistem Inf...|           Ise|\n",
            "|Susi|    Teknik Elektro|                  3|             NULL|              3.8|Susi - Teknik Ele...|          NULL|\n",
            "|Rika|Teknik Informatika|                  4|          Shounen|              3.6|Rika - Teknik Inf...|           Sho|\n",
            "|Dewi|     Ilmu Komputer|                  6|            Mecha|              3.9|Dewi - Ilmu Komputer|           Mec|\n",
            "|Andi|  Sistem Informasi|                  2|           Shonen|3.585714285714286|Andi - Sistem Inf...|           Sho|\n",
            "|Lina|    Teknik Elektro|                  4|           Isekai|              3.4|Lina - Teknik Ele...|           Ise|\n",
            "+----+------------------+-------------------+-----------------+-----------------+--------------------+--------------+\n",
            "\n"
          ]
        }
      ]
    },
    {
      "cell_type": "markdown",
      "source": [
        "### Menggunakan Fungsi Array: explode"
      ],
      "metadata": {
        "id": "TLEy75fdN19D"
      },
      "id": "TLEy75fdN19D"
    },
    {
      "cell_type": "code",
      "source": [
        "from pyspark.sql.functions import explode, split\n",
        "\n",
        "# Menambahkan kolom 'Hobi' sebagai array string\n",
        "data_hobi = [\n",
        "    ('Rina', 'Teknik Informatika', 5, ['Game', 'Anime'], 3.5),\n",
        "    ('Budi', 'Ilmu Komputer', 7, ['Anime', 'Membaca'], 3.7),\n",
        "    ('Tono', 'Sistem Informasi', None, ['Isekai'], 3.2),\n",
        "    ('Susi', 'Teknik Elektro', 3, ['Game'], 3.8),\n",
        "    ('Rika', 'Teknik Informatika', 4, ['Anime', 'Bermain Musik'], 3.6),\n",
        "    ('Dewi', 'Ilmu Komputer', 6, ['Game', 'Anime', 'Olahraga'], 3.9),\n",
        "    ('Andi', 'Sistem Informasi', 2, ['Game'], None),\n",
        "    ('Lina', 'Teknik Elektro', 4, ['Anime'], 3.4)\n",
        "]\n",
        "columns_hobi = ['Nama', 'Jurusan', 'JumlahGamePerMinggu', 'Hobi', 'GPA']\n",
        "df_hobi = spark.createDataFrame(data_hobi, schema=columns_hobi)\n",
        "\n",
        "# Menampilkan DataFrame dengan kolom array 'Hobi'\n",
        "df_hobi.show(truncate=False)"
      ],
      "metadata": {
        "id": "QwJt7DVFL8Ke",
        "outputId": "f5afbab1-1d24-4b84-c3d0-4f12bfdb507d",
        "colab": {
          "base_uri": "https://localhost:8080/"
        }
      },
      "id": "QwJt7DVFL8Ke",
      "execution_count": 30,
      "outputs": [
        {
          "output_type": "stream",
          "name": "stdout",
          "text": [
            "+----+------------------+-------------------+-----------------------+----+\n",
            "|Nama|Jurusan           |JumlahGamePerMinggu|Hobi                   |GPA |\n",
            "+----+------------------+-------------------+-----------------------+----+\n",
            "|Rina|Teknik Informatika|5                  |[Game, Anime]          |3.5 |\n",
            "|Budi|Ilmu Komputer     |7                  |[Anime, Membaca]       |3.7 |\n",
            "|Tono|Sistem Informasi  |NULL               |[Isekai]               |3.2 |\n",
            "|Susi|Teknik Elektro    |3                  |[Game]                 |3.8 |\n",
            "|Rika|Teknik Informatika|4                  |[Anime, Bermain Musik] |3.6 |\n",
            "|Dewi|Ilmu Komputer     |6                  |[Game, Anime, Olahraga]|3.9 |\n",
            "|Andi|Sistem Informasi  |2                  |[Game]                 |NULL|\n",
            "|Lina|Teknik Elektro    |4                  |[Anime]                |3.4 |\n",
            "+----+------------------+-------------------+-----------------------+----+\n",
            "\n"
          ]
        }
      ]
    },
    {
      "cell_type": "markdown",
      "source": [
        "Menggunakan explode untuk memecah array 'Hobi' menjadi baris terpisah:"
      ],
      "metadata": {
        "id": "gVziuoV9OocO"
      },
      "id": "gVziuoV9OocO"
    },
    {
      "cell_type": "code",
      "source": [
        "# Menggunakan explode untuk memecah kolom array 'Hobi'\n",
        "df_exploded = df_hobi.withColumn('Hobi', explode('Hobi'))\n",
        "df_exploded.show()"
      ],
      "metadata": {
        "id": "Gi2gnXEKMI3G",
        "outputId": "d2d0713c-4723-4098-f484-23897c68b94a",
        "colab": {
          "base_uri": "https://localhost:8080/"
        }
      },
      "id": "Gi2gnXEKMI3G",
      "execution_count": 31,
      "outputs": [
        {
          "output_type": "stream",
          "name": "stdout",
          "text": [
            "+----+------------------+-------------------+-------------+----+\n",
            "|Nama|           Jurusan|JumlahGamePerMinggu|         Hobi| GPA|\n",
            "+----+------------------+-------------------+-------------+----+\n",
            "|Rina|Teknik Informatika|                  5|         Game| 3.5|\n",
            "|Rina|Teknik Informatika|                  5|        Anime| 3.5|\n",
            "|Budi|     Ilmu Komputer|                  7|        Anime| 3.7|\n",
            "|Budi|     Ilmu Komputer|                  7|      Membaca| 3.7|\n",
            "|Tono|  Sistem Informasi|               NULL|       Isekai| 3.2|\n",
            "|Susi|    Teknik Elektro|                  3|         Game| 3.8|\n",
            "|Rika|Teknik Informatika|                  4|        Anime| 3.6|\n",
            "|Rika|Teknik Informatika|                  4|Bermain Musik| 3.6|\n",
            "|Dewi|     Ilmu Komputer|                  6|         Game| 3.9|\n",
            "|Dewi|     Ilmu Komputer|                  6|        Anime| 3.9|\n",
            "|Dewi|     Ilmu Komputer|                  6|     Olahraga| 3.9|\n",
            "|Andi|  Sistem Informasi|                  2|         Game|NULL|\n",
            "|Lina|    Teknik Elektro|                  4|        Anime| 3.4|\n",
            "+----+------------------+-------------------+-------------+----+\n",
            "\n"
          ]
        }
      ]
    },
    {
      "cell_type": "markdown",
      "source": [
        "### Mengurutkan Data dengan orderBy dan sort"
      ],
      "metadata": {
        "id": "RK2unI-IOwK-"
      },
      "id": "RK2unI-IOwK-"
    },
    {
      "cell_type": "code",
      "source": [
        "# Mengurutkan berdasarkan 'GPA' secara menurun\n",
        "df_hobi.orderBy(F.desc('GPA')).show()"
      ],
      "metadata": {
        "id": "Roq8n_eKMPCO",
        "outputId": "4de3b8c0-cf65-4234-a4c3-9fa36fba2c32",
        "colab": {
          "base_uri": "https://localhost:8080/"
        }
      },
      "id": "Roq8n_eKMPCO",
      "execution_count": 32,
      "outputs": [
        {
          "output_type": "stream",
          "name": "stdout",
          "text": [
            "+----+------------------+-------------------+--------------------+----+\n",
            "|Nama|           Jurusan|JumlahGamePerMinggu|                Hobi| GPA|\n",
            "+----+------------------+-------------------+--------------------+----+\n",
            "|Dewi|     Ilmu Komputer|                  6|[Game, Anime, Ola...| 3.9|\n",
            "|Susi|    Teknik Elektro|                  3|              [Game]| 3.8|\n",
            "|Budi|     Ilmu Komputer|                  7|    [Anime, Membaca]| 3.7|\n",
            "|Rika|Teknik Informatika|                  4|[Anime, Bermain M...| 3.6|\n",
            "|Rina|Teknik Informatika|                  5|       [Game, Anime]| 3.5|\n",
            "|Lina|    Teknik Elektro|                  4|             [Anime]| 3.4|\n",
            "|Tono|  Sistem Informasi|               NULL|            [Isekai]| 3.2|\n",
            "|Andi|  Sistem Informasi|                  2|              [Game]|NULL|\n",
            "+----+------------------+-------------------+--------------------+----+\n",
            "\n"
          ]
        }
      ]
    },
    {
      "cell_type": "markdown",
      "source": [
        "### Mendapatkan Statistik Deskriptif dengan describe"
      ],
      "metadata": {
        "id": "A4QIkMaeO7Qq"
      },
      "id": "A4QIkMaeO7Qq"
    },
    {
      "cell_type": "code",
      "source": [
        "# Mendapatkan statistik deskriptif dari kolom 'JumlahGamePerMinggu' dan 'GPA'\n",
        "df_hobi.describe(['JumlahGamePerMinggu', 'GPA']).show()"
      ],
      "metadata": {
        "id": "Nk-ZqljEMT6F",
        "outputId": "d94b3846-a92d-4833-d2e9-1f3325acd9d0",
        "colab": {
          "base_uri": "https://localhost:8080/"
        }
      },
      "id": "Nk-ZqljEMT6F",
      "execution_count": 33,
      "outputs": [
        {
          "output_type": "stream",
          "name": "stdout",
          "text": [
            "+-------+-------------------+-------------------+\n",
            "|summary|JumlahGamePerMinggu|                GPA|\n",
            "+-------+-------------------+-------------------+\n",
            "|  count|                  7|                  7|\n",
            "|   mean|  4.428571428571429|  3.585714285714286|\n",
            "| stddev| 1.7182493859684491|0.24102953780654784|\n",
            "|    min|                  2|                3.2|\n",
            "|    max|                  7|                3.9|\n",
            "+-------+-------------------+-------------------+\n",
            "\n"
          ]
        }
      ]
    }
  ],
  "metadata": {
    "language_info": {
      "name": "python"
    },
    "colab": {
      "provenance": []
    },
    "kernelspec": {
      "name": "python3",
      "display_name": "Python 3"
    }
  },
  "nbformat": 4,
  "nbformat_minor": 5
}